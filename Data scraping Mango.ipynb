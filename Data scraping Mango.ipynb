{
 "cells": [
  {
   "cell_type": "code",
   "execution_count": 1,
   "metadata": {},
   "outputs": [],
   "source": [
    "import pandas as pd\n",
    "import requests\n",
    "from bs4 import BeautifulSoup\n",
    "\n",
    "import time\n",
    "from selenium import webdriver\n",
    "from selenium.webdriver.chrome.service import Service\n",
    "from selenium.webdriver.common.by import By\n",
    "from webdriver_manager.chrome import ChromeDriverManager\n",
    "\n",
    "from selenium.webdriver.support.ui import WebDriverWait\n",
    "from selenium.webdriver.support import expected_conditions as EC\n",
    "from selenium.common.exceptions import TimeoutException\n"
   ]
  },
  {
   "cell_type": "markdown",
   "metadata": {},
   "source": [
    "## 1- Data Scraping"
   ]
  },
  {
   "cell_type": "code",
   "execution_count": 151,
   "metadata": {},
   "outputs": [],
   "source": [
    "def soup_with_selenium(url, scroll=False, product=False):\n",
    "    # Start a new instance of Chrome WebDriver\n",
    "    driver = webdriver.Chrome(service=Service(ChromeDriverManager().install()))\n",
    "    \n",
    "    # Navigate to the URL\n",
    "    driver.get(url)\n",
    "\n",
    "    if product:\n",
    "        try:\n",
    "            WebDriverWait(driver, 30).until(EC.visibility_of_element_located((By.CSS_SELECTOR, 'div.image-btn')))\n",
    "        except:\n",
    "            print(f'image-btn was not found for {url}')  \n",
    "    else:\n",
    "        time.sleep(4)\n",
    "\n",
    "    # If scroll is True, scroll down to trigger loading of additional content\n",
    "    if scroll:\n",
    "        driver.execute_script(\"window.scrollBy(0, 1200);\")\n",
    "        time.sleep(1)\n",
    "        driver.execute_script(\"window.scrollBy(0, 800);\")\n",
    "        try:\n",
    "            WebDriverWait(driver, 10).until(EC.visibility_of_element_located((By.CSS_SELECTOR, 'div#totalLook')))\n",
    "            # Code to execute when the element is found and visible\n",
    "        except TimeoutException:\n",
    "        # Code to execute when the element is not found within the timeout period\n",
    "            print(f'totalLook was not found for {url}')\n",
    "            time.sleep(2)\n",
    "        time.sleep(2.0)\n",
    "\n",
    "    # Get the page source after the page has fully loaded\n",
    "    page_source = driver.page_source\n",
    "    \n",
    "    # Close the WebDriver\n",
    "    driver.quit()\n",
    "\n",
    "    # Parse the page source with BeautifulSoup\n",
    "    soup = BeautifulSoup(page_source, 'html.parser')\n",
    "\n",
    "    return soup"
   ]
  },
  {
   "cell_type": "code",
   "execution_count": 4,
   "metadata": {},
   "outputs": [],
   "source": [
    "def fetch_catalog(url):\n",
    "    soup = soup_with_selenium(url)\n",
    "    \n",
    "    catalog_box = soup.find('div', attrs={'id': 'catalogProductsList'})\n",
    "    \n",
    "    catalog_link = []\n",
    "    if catalog_box:\n",
    "        items = catalog_box.find_all('a')\n",
    "        for item in items:\n",
    "            link = 'https://shop.mango.com' + item.get('href')\n",
    "            catalog_link.append(link)\n",
    "    \n",
    "    return catalog_link"
   ]
  },
  {
   "cell_type": "code",
   "execution_count": 46,
   "metadata": {},
   "outputs": [
    {
     "name": "stdout",
     "output_type": "stream",
     "text": [
      "['https://shop.mango.com/nl-en/women/blouses-and-shirts-shirts/wrap-linen-blend-shirt_67035755.html?c=05', 'https://shop.mango.com/nl-en/women/blouses-and-shirts-shirts/chest-pocket-denim-shirt_67094022.html?c=TM', 'https://shop.mango.com/nl-en/women/blouses-and-shirts-shirts/chest-pocket-denim-shirt_67094022.html?c=TM', 'https://shop.mango.com/nl-en/women/blouses-and-shirts-shirts/satin-striped-shirt_67095756.html?c=05', 'https://shop.mango.com/nl-en/women/blouses-and-shirts-shirts/pocket-oversize-shirt_67030437.html?c=01', 'https://shop.mango.com/nl-en/women/blouses-and-shirts-blouses/double-breasted-blouse-with-bow_67055759.html?c=99', 'https://shop.mango.com/nl-en/women/blouses-and-shirts-shirts/floral-embroidered-shirt_67075726.html?c=88', 'https://shop.mango.com/nl-en/women/blouses-and-shirts-shirts/linen-100-shirt_67096314.html?c=50', 'https://shop.mango.com/nl-en/women/blouses-and-shirts-blouses/double-breasted-blouse-with-bow_67055759.html?c=05', 'https://shop.mango.com/nl-en/women/blouses-and-shirts-blouses/embroidered-details-blouse_67054043.html?c=02', 'https://shop.mango.com/nl-en/women/blouses-and-shirts-shirts/buttoned-printed-shirt_67034043.html', 'https://shop.mango.com/nl-en/women/blouses-and-shirts-shirts/linen-100-shirt_67096314.html?c=01', 'https://shop.mango.com/nl-en/women/blouses-and-shirts-shirts/adjustable-hem-cotton-shirt_67015741.html?c=01', 'https://shop.mango.com/nl-en/women/blouses-and-shirts-shirts/ruffle-neck-shirt_67084032.html?c=02', 'https://shop.mango.com/nl-en/women/blouses-and-shirts-blouses/ruffle-asymmetric-blouse_67076343.html?c=05', 'https://shop.mango.com/nl-en/women/blouses-and-shirts-shirts/adjustable-hem-cotton-shirt_67015741.html?c=43', 'https://shop.mango.com/nl-en/women/blouses-and-shirts-blouses/asymmetrical-printed-blouse_67096342.html?c=99', 'https://shop.mango.com/nl-en/women/blouses-and-shirts-shirts/linen-100-shirt_67096314.html?c=99', 'https://shop.mango.com/nl-en/women/blouses-and-shirts-shirts/satin-finish-flowy-shirt_67010445.html?c=57', 'https://shop.mango.com/nl-en/women/blouses-and-shirts-blouses/lace-applique-blouse_67054044.html?c=06', 'https://shop.mango.com/nl-en/women/blouses-and-shirts-shirts/satin-textured-shirt_67040457.html?c=43', 'https://shop.mango.com/nl-en/women/blouses-and-shirts-blouses/floral-embroidery-blouse_67074039.html?c=05', 'https://shop.mango.com/nl-en/women/blouses-and-shirts-blouses/flower-choker-blouse_67076340.html?c=52', 'https://shop.mango.com/nl-en/women/blouses-and-shirts-shirts/bow-printed-shirt_67046348.html?c=69', 'https://shop.mango.com/nl-en/women/blouses-and-shirts-shirts/check-cotton-shirt_67034042.html?c=43', 'https://shop.mango.com/nl-en/women/blouses-and-shirts-blouses/striped-blouse_67095758.html?c=05', 'https://shop.mango.com/nl-en/women/blouses-and-shirts-shirts/satin-textured-shirt_67040457.html?c=05', 'https://shop.mango.com/nl-en/women/blouses-and-shirts-blouses/bow-printed-blouse_67034788.html', 'https://shop.mango.com/nl-en/women/blouses-and-shirts-shirts/concealed-button-shirt_67015736.html?c=74', 'https://shop.mango.com/nl-en/women/blouses-and-shirts-blouses/asymmetric-satin-check-blouse_67065754.html?c=52', 'https://shop.mango.com/nl-en/women/blouses-and-shirts-blouses/printed-halter-neck-blouse_67056341.html?c=88', 'https://shop.mango.com/nl-en/women/blouses-and-shirts-blouses/blusa-plisada-cuello-alto_67036347.html?c=74', 'https://shop.mango.com/nl-en/women/blouses-and-shirts-shirts/check-cotton-shirt_67034042.html?c=70', 'https://shop.mango.com/nl-en/women/blouses-and-shirts-shirts/regular-flowy-shirt_67044045.html?c=57', 'https://shop.mango.com/nl-en/women/blouses-and-shirts-shirts/satin-finish-flowy-shirt_67010444.html?c=10', 'https://shop.mango.com/nl-en/women/blouses-and-shirts-shirts/fitted-cotton-shirt_67093261.html?c=01', 'https://shop.mango.com/nl-en/women/blouses-and-shirts-shirts/linen-100-shirt_67085722.html?c=02', 'https://shop.mango.com/nl-en/women/blouses-and-shirts-shirts/buttoned-flowy-shirt_67084036.html', 'https://shop.mango.com/nl-en/women/blouses-and-shirts-shirts/short-sleeved-blouse_67060640.html', 'https://shop.mango.com/nl-en/women/blouses-and-shirts-shirts/leopard-satin-shirt_57087728.html?c=08', 'https://shop.mango.com/nl-en/women/blouses-and-shirts-shirts/semi-transparent-printed-shirt_67064791.html?c=99', 'https://shop.mango.com/nl-en/women/blouses-and-shirts-shirts/contrast-trim-shirt_67084070.html?c=05', 'https://shop.mango.com/nl-en/women/blouses-and-shirts-shirts/linen-100-shirt_67085722.html?c=88', 'https://shop.mango.com/nl-en/women/blouses-and-shirts-shirts/cotton-knit-shirt_67064012.html?c=37', 'https://shop.mango.com/nl-en/women/blouses-and-shirts-shirts/satin-finish-flowy-shirt_67010439.html?c=99', 'https://shop.mango.com/nl-en/women/blouses-and-shirts-shirts/regular-cotton-lyocell-blend-shirt_67030438.html?c=02', 'https://shop.mango.com/nl-en/women/blouses-and-shirts-shirts/fitted-cotton-shirt_67093261.html?c=50', 'https://shop.mango.com/nl-en/women/blouses-and-shirts-shirts/cotton-knit-shirt_67064012.html?c=02', 'https://shop.mango.com/nl-en/women/blouses-and-shirts-shirts/satin-finish-flowy-shirt_67020443.html?c=02', 'https://shop.mango.com/nl-en/women/blouses-and-shirts-shirts/satin-striped-shirt_67034033.html?c=05', 'https://shop.mango.com/nl-en/women/blouses-and-shirts-shirts/oversize-shirt-openings_67005745.html', 'https://shop.mango.com/nl-en/women/blouses-and-shirts-shirts/linen-100-shirt_67085722.html?c=43', 'https://shop.mango.com/nl-en/women/blouses-and-shirts-shirts/satin-finish-flowy-shirt_67034044.html?c=43', 'https://shop.mango.com/nl-en/women/blouses-and-shirts-shirts/regular-flowy-shirt_67020435.html?c=79', 'https://shop.mango.com/nl-en/women/blouses-and-shirts-shirts/100-cotton-pocket-shirt_67034034.html', 'https://shop.mango.com/nl-en/women/blouses-and-shirts-shirts/slim-fit-velvet-jacket_67084066.html?c=02', 'https://shop.mango.com/nl-en/women/blouses-and-shirts-blouses/ruffles-printed-blouse_67084071.html?c=99', 'https://shop.mango.com/nl-en/women/blouses-and-shirts-shirts/100-silk-shirt_67024789.html?c=02', 'https://shop.mango.com/nl-en/women/blouses-and-shirts-shirts/short-sleeve-button-down-shirt_67064778.html?c=99', 'https://shop.mango.com/nl-en/women/blouses-and-shirts-shirts/satin-finish-flowy-shirt_67034044.html?c=88', 'https://shop.mango.com/nl-en/women/blouses-and-shirts-shirts/textured-shirt-with-buttons_67094040.html?c=37', 'https://shop.mango.com/nl-en/women/blouses-and-shirts-blouses/pleated-bow-blouse_67044782.html?c=85', 'https://shop.mango.com/nl-en/women/blouses-and-shirts-shirts/flowy-shirt-with-seam-detail_67073262.html?c=74', 'https://shop.mango.com/nl-en/women/blouses-and-shirts-blouses/satin-print-blouse_67030462.html?c=37', 'https://shop.mango.com/nl-en/women/blouses-and-shirts-shirts/100-cotton-shirt_67074791.html?c=01', 'https://shop.mango.com/nl-en/women/blouses-and-shirts-shirts/satin-print-shirt_67040479.html?c=30', 'https://shop.mango.com/nl-en/women/blouses-and-shirts-shirts/lyocell-fluid-shirt_67054046.html?c=02', 'https://shop.mango.com/nl-en/women/blouses-and-shirts-shirts/oversize-check-shirt_67084062.html?c=52', 'https://shop.mango.com/nl-en/women/blouses-and-shirts-shirts/oversize-check-shirt_67084062.html?c=52&l=01', 'https://shop.mango.com/nl-en/women/blouses-and-shirts-shirts/regular-flowy-shirt_67020435.html?c=05', 'https://shop.mango.com/nl-en/women/blouses-and-shirts-shirts/slim-fit-velvet-jacket_67084066.html?c=43', 'https://shop.mango.com/nl-en/women/blouses-and-shirts-blouses/lace-trim-shirt_67024793.html?c=02', 'https://shop.mango.com/nl-en/women/blouses-and-shirts-shirts/short-sleeve-linen-blend-shirt_67054788.html', 'https://shop.mango.com/nl-en/women/blouses-and-shirts-blouses/floral-print-flowy-blouse_67074046.html?c=99', 'https://shop.mango.com/nl-en/women/blouses-and-shirts-shirts/regular-cotton-lyocell-blend-shirt_67010447.html?c=50', 'https://shop.mango.com/nl-en/women/blouses-and-shirts-shirts/contrast-striped-shirt_67034041.html', 'https://shop.mango.com/nl-en/women/blouses-and-shirts-shirts/short-sleeve-pocket-shirt_67090420.html?c=43', 'https://shop.mango.com/nl-en/women/blouses-and-shirts-blouses/back-bow-blouse_67094065.html?c=70', 'https://shop.mango.com/nl-en/women/blouses-and-shirts-shirts/pleated-panel-shirt_67024792.html?c=01', 'https://shop.mango.com/nl-en/women/blouses-and-shirts-shirts/short-sleeve-pocket-shirt_67090420.html?c=05', 'https://shop.mango.com/nl-en/women/blouses-and-shirts-shirts/regular-flowy-shirt_67020435.html?c=34', 'https://shop.mango.com/nl-en/women/blouses-and-shirts-shirts/short-sleeve-button-down-shirt_67064778.html?c=88', 'https://shop.mango.com/nl-en/women/blouses-and-shirts-shirts/satin-print-shirt_67084031.html?c=78', 'https://shop.mango.com/nl-en/women/blouses-and-shirts-shirts/regular-flowy-shirt_67030436.html?c=98', 'https://shop.mango.com/nl-en/women/blouses-and-shirts-shirts/fitted-cotton-shirt_67093261.html?c=85', 'https://shop.mango.com/nl-en/women/blouses-and-shirts-blouses/floral-guipure-blouse_47061287.html', 'https://shop.mango.com/nl-en/women/blouses-and-shirts-blouses/100-linen-blouse_67074779.html', 'https://shop.mango.com/nl-en/women/blouses-and-shirts-shirts/button-linen-shirt_67095725.html?c=10', 'https://shop.mango.com/nl-en/women/blouses-and-shirts-shirts/cotton-blouse-with-openwork-detail_67075727.html?c=01', 'https://shop.mango.com/nl-en/women/blouses-and-shirts-blouses/semi-transparent-floral-blouse_67020463.html?c=99', 'https://shop.mango.com/nl-en/women/blouses-and-shirts-blouses/ruffle-neckline-blouse_67046345.html?c=70', 'https://shop.mango.com/nl-en/women/blouses-and-shirts-shirts/lyocell-fluid-shirt_67054046.html?c=87', 'https://shop.mango.com/nl-en/women/blouses-and-shirts-shirts/regular-flowy-shirt_67030436.html?c=02', 'https://shop.mango.com/nl-en/women/blouses-and-shirts-blouses/pleated-bow-blouse_67044782.html?c=37', 'https://shop.mango.com/nl-en/women/blouses-and-shirts-shirts/fitted-cotton-shirt_67024795.html?c=01', 'https://shop.mango.com/nl-en/women/blouses-and-shirts-blouses/asymmetric-checked-blouse_67036346.html', 'https://shop.mango.com/nl-en/women/blouses-and-shirts-shirts/lyocell-fluid-shirt_67054046.html?c=50', 'https://shop.mango.com/nl-en/women/blouses-and-shirts-cotton/pocket-oversize-shirt_67015738.html?c=43', 'https://shop.mango.com/nl-en/women/blouses-and-shirts-blouses/puffed-sleeves-blouse_67064036.html?c=99', 'https://shop.mango.com/nl-en/women/blouses-and-shirts-shirts/satin-buttoned-shirt_67064039.html', 'https://shop.mango.com/nl-en/women/blouses-and-shirts-shirts/printed-shirred-shirt_47055965.html?c=52', 'https://shop.mango.com/nl-en/women/blouses-and-shirts-shirts/100-silk-shirt_67024789.html?c=50', 'https://shop.mango.com/nl-en/women/blouses-and-shirts-shirts/pockets-flowy-shirt_67064037.html?c=99', 'https://shop.mango.com/nl-en/women/blouses-and-shirts-blouses/floral-textured-blouse_57013818.html?c=61', 'https://shop.mango.com/nl-en/women/blouses-and-shirts-shirts/linen-100-shirt_67085722.html?c=83', 'https://shop.mango.com/nl-en/women/blouses-and-shirts-shirts/flowy-shirt-with-seam-detail_67073262.html?c=99', 'https://shop.mango.com/nl-en/women/blouses-and-shirts-blouses/printed-puff-sleeve-blouse_57013819.html?c=52', 'https://shop.mango.com/nl-en/women/blouses-and-shirts-blouses/puffed-sleeves-blouse_67064036.html?c=37', 'https://shop.mango.com/nl-en/women/blouses-and-shirts-shirts/textured-shirt-with-buttons_67094040.html?c=99', 'https://shop.mango.com/nl-en/women/blouses-and-shirts-blouses/100-ramie-cape_67065752.html?c=86', 'https://shop.mango.com/nl-en/women/blouses-and-shirts-shirts/100-cotton-floral-print-shirt_67085751.html?c=99', 'https://shop.mango.com/nl-en/women/blouses-and-shirts-shirts/cotton-parachute-shirt_67023699.html?c=02', 'https://shop.mango.com/nl-en/women/blouses-and-shirts-blouses/100-ramie-cape_67065752.html?c=01', 'https://shop.mango.com/nl-en/women/blouses-and-shirts-blouses/tie-neck-blouse_47050086.html?c=02', 'https://shop.mango.com/nl-en/women/blouses-and-shirts-shirts/pockets-flowy-shirt_67064037.html?c=37', 'https://shop.mango.com/nl-en/women/blouses-and-shirts-blouses/floral-print-crossover-blouse_57027733.html?c=99', 'https://shop.mango.com/nl-en/women/blouses-and-shirts-shirts/semi-transparent-printed-shirt_67066345.html?c=99', 'https://shop.mango.com/nl-en/women/blouses-and-shirts-shirts/pocket-striped-shirt_67034040.html', 'https://shop.mango.com/nl-en/women/blouses-and-shirts-blouses/ruffles-printed-blouse_67020464.html?c=99', 'https://shop.mango.com/nl-en/women/blouses-and-shirts-blouses/short-sleeved-blouse_47040154.html?c=05', 'https://shop.mango.com/nl-en/women/blouses-and-shirts-shirts/camp-collar-shirt_67063267.html?c=43', 'https://shop.mango.com/nl-en/women/blouses-and-shirts-shirts/chest-pocket-cotton-shirt_67074029.html', 'https://shop.mango.com/nl-en/women/blouses-and-shirts-blouses/bow-printed-blouse_67080452.html?c=05', 'https://shop.mango.com/nl-en/women/blouses-and-shirts-shirts/linen-blend-short-sleeve-shirt_67032534.html?c=08', 'https://shop.mango.com/nl-en/women/blouses-and-shirts-shirts/regular-flowy-shirt_67020435.html?c=10', 'https://shop.mango.com/nl-en/women/blouses-and-shirts-shirts/striped-bow-blouse_67074063.html?c=05', 'https://shop.mango.com/nl-en/women/blouses-and-shirts-shirts/short-sleeve-linen-blend-shirt_67040403.html', 'https://shop.mango.com/nl-en/women/blouses-and-shirts-shirts/buttoned-cotton-shirt_67005744.html?c=52', 'https://shop.mango.com/nl-en/women/blouses-and-shirts-shirts/ruched-satin-shirt_67000442.html', 'https://shop.mango.com/nl-en/women/blouses-and-shirts-shirts/printed-shirred-shirt_67085735.html?c=02', 'https://shop.mango.com/nl-en/women/blouses-and-shirts-shirts/linen-blend-short-sleeve-shirt_67032534.html?c=40', 'https://shop.mango.com/nl-en/women/blouses-and-shirts-shirts/short-sleeve-linen-blend-shirt_67080418.html?c=88', 'https://shop.mango.com/nl-en/women/blouses-and-shirts-shirts/wrinkled-effect-shirt_67094035.html', 'https://shop.mango.com/nl-en/women/blouses-and-shirts-shirts/linen-blend-short-sleeve-shirt_67010448.html?c=56', 'https://shop.mango.com/nl-en/women/blouses-and-shirts-shirts/cropped-shirt-with-knot_67000441.html', 'https://shop.mango.com/nl-en/women/blouses-and-shirts-blouses/buttoned-textured-blouse_47008254.html?c=81', 'https://shop.mango.com/nl-en/women/blouses-and-shirts-blouses/embroidered-cord-blouse_47047125.html', 'https://shop.mango.com/nl-en/women/blouses-and-shirts-blouses/slit-shirt_47051298.html?c=79', 'https://shop.mango.com/nl-en/women/blouses-and-shirts-blouses/slit-shirt_47051298.html?c=99', 'https://shop.mango.com/nl-en/women/blouses-and-shirts-blouses/satin-blouse-with-bow-collar_47095911.html', 'https://shop.mango.com/nl-en/women/blouses-and-shirts-blouses/printed-linen-shirt_57050199.html?c=88', 'https://shop.mango.com/nl-en/women/blouses-and-shirts-shirts/tie-shirt-with-satin-details_57087757.html?c=99', 'https://shop.mango.com/nl-en/women/blouses-and-shirts-shirts/striped-bow-blouse_67005743.html?c=50', 'https://shop.mango.com/nl-en/women/blouses-and-shirts-shirts/cotton-zipper-sleeveless-shirt_67023698.html?c=02', 'https://shop.mango.com/nl-en/women/blouses-and-shirts-shirts/tie-dye-pleated-shirt_67030683.html?c=52', 'https://shop.mango.com/nl-en/women/blouses-and-shirts-shirts/puff-sleeve-cotton-shirt_67042534.html', 'https://shop.mango.com/nl-en/women/blouses-and-shirts-blouses/puff-sleeved-cropped-blouse_67062532.html', 'https://shop.mango.com/nl-en/women/blouses-and-shirts-blouses/embroidered-puff-sleeve-blouse_67080427.html', 'https://shop.mango.com/nl-en/women/blouses-and-shirts-shirts/buttoned-printed-shirt_67080456.html', 'https://shop.mango.com/nl-en/women/blouses-and-shirts-blouses/bow-satin-blouse_57035791.html?c=95']\n"
     ]
    }
   ],
   "source": [
    "#to check catalog function\n",
    "url = 'https://shop.mango.com/nl-en/women/blouses-and-shirts_c78920337'\n",
    "catalog_urls = fetch_catalog(url)\n",
    "print(catalog_urls)"
   ]
  },
  {
   "cell_type": "code",
   "execution_count": 11,
   "metadata": {},
   "outputs": [],
   "source": [
    "def fetch_product(soup):\n",
    "    image_boxes = soup.find_all('div', attrs={'class': 'image-btn'}) \n",
    "\n",
    "    if image_boxes:\n",
    "        image_box = image_boxes[-1]\n",
    "    else:\n",
    "        return {}\n",
    "\n",
    "    data = {}\n",
    "    if image_box:\n",
    "        item = image_box.find('img')\n",
    "        link = 'https:' + item.get('src')\n",
    "        data['image_link'] = link\n",
    "                \n",
    "    type_boxes = soup.find_all('a', attrs = {'class':'breadcrumbs-link'})\n",
    "    types = []\n",
    "    for type_box in type_boxes:\n",
    "        type = type_box.find('span', attrs = {'itemprop':'name'}).text.strip()\n",
    "        types.append(type)\n",
    "    data['type'] = ','.join(types)\n",
    "    color = soup.find('div', attrs = {'class':'colors-info'}).find('span', attrs = {'class':'colors-info-name'}).text.strip()\n",
    "    data['color'] = color\n",
    "\n",
    "    return data"
   ]
  },
  {
   "cell_type": "code",
   "execution_count": null,
   "metadata": {},
   "outputs": [],
   "source": [
    "#to check fetch_product function\n",
    "product_url = 'https://shop.mango.com/nl-en/women/blouses-and-shirts-shirts/wrap-linen-blend-shirt_67035755.html?c=05'\n",
    "product_soup = soup_with_selenium(product_url, product=True)\n",
    "product_data = fetch_product(product_soup)\n",
    "display(product_data)"
   ]
  },
  {
   "cell_type": "code",
   "execution_count": 17,
   "metadata": {},
   "outputs": [],
   "source": [
    "def fetch_combi_url(soup):    \n",
    "    # Find the combi_box\n",
    "    combi_box = soup.find('ul', id='recommendations.getTotalLook-list')\n",
    "    \n",
    "    # Initialize an empty list to store combi links\n",
    "    combi_links = []\n",
    "    \n",
    "    # Extract combi links if combi_box is found\n",
    "    if combi_box:\n",
    "        items = combi_box.find_all('a')\n",
    "        for item in items:\n",
    "            link = 'https://shop.mango.com' + item.get('href')\n",
    "            combi_links.append(link)\n",
    "    \n",
    "    return combi_links"
   ]
  },
  {
   "cell_type": "code",
   "execution_count": 12,
   "metadata": {},
   "outputs": [],
   "source": [
    "def fetch_combi_product(soup):\n",
    "    image_box = soup.find_all('div', attrs={'class': 'image-btn'})[-1]\n",
    "    data = {}\n",
    "    if image_box:\n",
    "        item = image_box.find('img')\n",
    "        link = 'https:' + item.get('src')\n",
    "        data['combi_image_link'] = link\n",
    "                \n",
    "    type_boxes = soup.find_all('a', attrs = {'class':'breadcrumbs-link'})\n",
    "    types = []\n",
    "    for type_box in type_boxes:\n",
    "        type = type_box.find('span', attrs = {'itemprop':'name'}).text.strip()\n",
    "        types.append(type)\n",
    "    data['combi_type'] = ','.join(types)\n",
    "    color = soup.find('div', attrs = {'class':'colors-info'}).find('span', attrs = {'class':'colors-info-name'}).text.strip()\n",
    "    data['combi_color'] = color\n",
    "\n",
    "    return data"
   ]
  },
  {
   "cell_type": "code",
   "execution_count": 152,
   "metadata": {},
   "outputs": [],
   "source": [
    "def fetch_product_and_combi(url):\n",
    "    # Call soup_with_selenium with scroll=True to ensure all content is loaded\n",
    "    soup = soup_with_selenium(url, scroll=True, product=True)\n",
    "\n",
    "    if soup.find('title').text == 'Access Denied':\n",
    "        return pd.DataFrame([]), True \n",
    "\n",
    "    product = fetch_product(soup)\n",
    "    if not product:\n",
    "        return pd.DataFrame([]), False\n",
    "\n",
    "    combi_links = fetch_combi_url(soup)\n",
    "\n",
    "    combi_products = []\n",
    "    for link in combi_links:\n",
    "        combi_soup = soup_with_selenium(link, product=True)\n",
    "        combi = fetch_product(combi_soup)\n",
    "        if combi:\n",
    "            combi_products.append(combi)\n",
    "    \n",
    "    data = []\n",
    "    for combi_product in combi_products:\n",
    "        data.append({'image_link': product['image_link'],\n",
    "                    'type' : product['type'],\n",
    "                    'color' : product['color'],                     \n",
    "                    'combi_image_link': combi_product['image_link'],\n",
    "                    'combi_type': combi_product['type'],\n",
    "                    'combi_color': combi_product['color']})\n",
    "\n",
    "    # Create a DataFrame from the list of dictionaries\n",
    "    df = pd.DataFrame(data)\n",
    "\n",
    "    return df, False\n",
    "   "
   ]
  },
  {
   "cell_type": "code",
   "execution_count": 70,
   "metadata": {},
   "outputs": [
    {
     "data": {
      "text/html": [
       "<div>\n",
       "<style scoped>\n",
       "    .dataframe tbody tr th:only-of-type {\n",
       "        vertical-align: middle;\n",
       "    }\n",
       "\n",
       "    .dataframe tbody tr th {\n",
       "        vertical-align: top;\n",
       "    }\n",
       "\n",
       "    .dataframe thead th {\n",
       "        text-align: right;\n",
       "    }\n",
       "</style>\n",
       "<table border=\"1\" class=\"dataframe\">\n",
       "  <thead>\n",
       "    <tr style=\"text-align: right;\">\n",
       "      <th></th>\n",
       "      <th>image_link</th>\n",
       "      <th>type</th>\n",
       "      <th>color</th>\n",
       "      <th>combi_image_link</th>\n",
       "      <th>combi_type</th>\n",
       "      <th>combi_color</th>\n",
       "    </tr>\n",
       "  </thead>\n",
       "  <tbody>\n",
       "    <tr>\n",
       "      <th>0</th>\n",
       "      <td>https://st.mngbcn.com/rcs/pics/static/T6/fotos...</td>\n",
       "      <td>Women,Blouses and shirts,Shirts</td>\n",
       "      <td>Ecru</td>\n",
       "      <td>https://st.mngbcn.com/rcs/pics/static/T6/fotos...</td>\n",
       "      <td>Women,Skirts,Long</td>\n",
       "      <td>Ecru</td>\n",
       "    </tr>\n",
       "    <tr>\n",
       "      <th>1</th>\n",
       "      <td>https://st.mngbcn.com/rcs/pics/static/T6/fotos...</td>\n",
       "      <td>Women,Blouses and shirts,Shirts</td>\n",
       "      <td>Ecru</td>\n",
       "      <td>https://st.mngbcn.com/rcs/pics/static/T6/fotos...</td>\n",
       "      <td>Women,Shoes,Flat sandals</td>\n",
       "      <td>Black</td>\n",
       "    </tr>\n",
       "    <tr>\n",
       "      <th>2</th>\n",
       "      <td>https://st.mngbcn.com/rcs/pics/static/T6/fotos...</td>\n",
       "      <td>Women,Blouses and shirts,Shirts</td>\n",
       "      <td>Ecru</td>\n",
       "      <td>https://st.mngbcn.com/rcs/pics/static/T6/fotos...</td>\n",
       "      <td>Women,Bags,Leather</td>\n",
       "      <td>Chocolate</td>\n",
       "    </tr>\n",
       "    <tr>\n",
       "      <th>3</th>\n",
       "      <td>https://st.mngbcn.com/rcs/pics/static/T6/fotos...</td>\n",
       "      <td>Women,Blouses and shirts,Shirts</td>\n",
       "      <td>Ecru</td>\n",
       "      <td>https://st.mngbcn.com/rcs/pics/static/T6/fotos...</td>\n",
       "      <td>Women,Jewellery,Earrings</td>\n",
       "      <td>Gold</td>\n",
       "    </tr>\n",
       "  </tbody>\n",
       "</table>\n",
       "</div>"
      ],
      "text/plain": [
       "                                          image_link  \\\n",
       "0  https://st.mngbcn.com/rcs/pics/static/T6/fotos...   \n",
       "1  https://st.mngbcn.com/rcs/pics/static/T6/fotos...   \n",
       "2  https://st.mngbcn.com/rcs/pics/static/T6/fotos...   \n",
       "3  https://st.mngbcn.com/rcs/pics/static/T6/fotos...   \n",
       "\n",
       "                              type color  \\\n",
       "0  Women,Blouses and shirts,Shirts  Ecru   \n",
       "1  Women,Blouses and shirts,Shirts  Ecru   \n",
       "2  Women,Blouses and shirts,Shirts  Ecru   \n",
       "3  Women,Blouses and shirts,Shirts  Ecru   \n",
       "\n",
       "                                    combi_image_link  \\\n",
       "0  https://st.mngbcn.com/rcs/pics/static/T6/fotos...   \n",
       "1  https://st.mngbcn.com/rcs/pics/static/T6/fotos...   \n",
       "2  https://st.mngbcn.com/rcs/pics/static/T6/fotos...   \n",
       "3  https://st.mngbcn.com/rcs/pics/static/T6/fotos...   \n",
       "\n",
       "                 combi_type combi_color  \n",
       "0         Women,Skirts,Long        Ecru  \n",
       "1  Women,Shoes,Flat sandals       Black  \n",
       "2        Women,Bags,Leather   Chocolate  \n",
       "3  Women,Jewellery,Earrings        Gold  "
      ]
     },
     "metadata": {},
     "output_type": "display_data"
    }
   ],
   "source": [
    "#to check fetch_product and combi function\n",
    "data = fetch_product_and_combi(product_url)\n",
    "print(data)\n"
   ]
  },
  {
   "cell_type": "code",
   "execution_count": 153,
   "metadata": {},
   "outputs": [],
   "source": [
    "def save_data(catalog_url_list):\n",
    "    result = pd.DataFrame()\n",
    "    for url in catalog_url_list:\n",
    "        print(f\"fetching catalog: \\n{url}\\n\")\n",
    "        product_urls = fetch_catalog(url)\n",
    "        print(f'item count: {len(product_urls)}')\n",
    "        count = 1\n",
    "        for product_url in product_urls:\n",
    "            print(f'Progress: {count} / {len(product_urls)}', end='\\r')\n",
    "            df, error = fetch_product_and_combi(product_url)\n",
    "            if error:\n",
    "                print(f'Access Denied error') \n",
    "                return result\n",
    "            result = pd.concat([result, df], ignore_index=True)\n",
    "            count += 1\n",
    "    return result"
   ]
  },
  {
   "cell_type": "code",
   "execution_count": 154,
   "metadata": {},
   "outputs": [
    {
     "name": "stdout",
     "output_type": "stream",
     "text": [
      "fetching catalog: \n",
      "https://shop.mango.com/nl-en/women/jeans_c12563337\n",
      "\n",
      "item count: 152\n",
      "totalLook was not found for https://shop.mango.com/nl-en/women/jeans-mom--slouchy/mom-high-waist-jeans_67040316.html?c=TM\n",
      "totalLook was not found for https://shop.mango.com/nl-en/women/jeans-skinny--slim/waxed-slim-crop-jeans_67000680.html?c=TO\n",
      "totalLook was not found for https://shop.mango.com/nl-en/women/jeans-skinny--slim/slim-cropped-jeans_67094013.html?c=TM\n",
      "totalLook was not found for https://shop.mango.com/nl-en/women/jeans-straight/straight-jeans-with-forward-seams_67001012.html\n",
      "totalLook was not found for https://shop.mango.com/nl-en/women/jeans-skinny--slim/skinny-push-up-jeans_67010381.html?c=TO\n",
      "totalLook was not found for https://shop.mango.com/nl-en/women/jeans-straight/straight-jeans-with-forward-seams_67050450.html?c=DO\n",
      "totalLook was not found for https://shop.mango.com/nl-en/women/jeans-wideleg/jeans-culotte-high-waist_67040298.html?c=07\n",
      "totalLook was not found for https://shop.mango.com/nl-en/women/jeans-wideleg/high-waist-wideleg-jeans_67003266.html?c=TO\n",
      "totalLook was not found for https://shop.mango.com/nl-en/women/jeans-skinny--slim/waxed-push-up-skinny-jeans_67020263.html?c=99\n",
      "totalLook was not found for https://shop.mango.com/nl-en/women/jeans-skinny--slim/waxed-slim-crop-jeans_67030674.html?c=TU\n",
      "totalLook was not found for https://shop.mango.com/nl-en/women/jeans-mom--slouchy/mom-high-waist-jeans_47011308.html?c=TM\n",
      "totalLook was not found for https://shop.mango.com/nl-en/women/jeans-denim/capri-denim-bermuda-shorts_67037115.html\n",
      "totalLook was not found for https://shop.mango.com/nl-en/women/jeans-denim/capri-denim-bermuda-shorts_67067114.html\n",
      "Progress: 152 / 152\r"
     ]
    }
   ],
   "source": [
    "# catalog_url_list = [\n",
    "#     'https://shop.mango.com/nl-en/women/blouses-and-shirts_c78920337', \n",
    "#     'https://shop.mango.com/nl-en/women/dresses-and-jumpsuits_c55363448',\n",
    "#     'https://shop.mango.com/nl-en/women/t-shirts_c66796663',\n",
    "#     'https://shop.mango.com/nl-en/women/tops_c19912693',\n",
    "#     'https://shop.mango.com/nl-en/women/sweaters-and-cardigans_c87138853',\n",
    "#     'https://shop.mango.com/nl-en/women/jackets_c16573202',\n",
    "#     'https://shop.mango.com/nl-en/women/blazers_c86403599',\n",
    "#     'https://shop.mango.com/nl-en/women/coats_c67886633',\n",
    "#     'https://shop.mango.com/nl-en/women/trousers_c52748027',\n",
    "#     'https://shop.mango.com/nl-en/women/skirts_c20673898',\n",
    "#     'https://shop.mango.com/nl-en/women/jeans_c12563337',\n",
    "#      'https://shop.mango.com/nl-en/women/shorts_c13128150'\n",
    "#     ]\n",
    "\n",
    "# all_data_shorts = save_data(catalog_url_list)\n"
   ]
  },
  {
   "cell_type": "code",
   "execution_count": 157,
   "metadata": {},
   "outputs": [],
   "source": [
    "all_data_shorts.to_csv('Mango data/short.csv')"
   ]
  },
  {
   "cell_type": "markdown",
   "metadata": {},
   "source": [
    "## 2- Data Cleaning"
   ]
  },
  {
   "cell_type": "code",
   "execution_count": 1543,
   "metadata": {},
   "outputs": [],
   "source": [
    "blouse_shirt = pd.read_csv('Mango data/Blouse and Shirt.csv')\n",
    "dress_1 = pd.read_csv('Mango data/Dress_1.csv')\n",
    "dress_2 = pd.read_csv('Mango data/Dress_2.csv')\n",
    "dress_3 = pd.read_csv('Mango data/Dress_3.csv')\n",
    "tshirt = pd.read_csv('Mango data/tshirt.csv')\n",
    "tops = pd.read_csv('Mango data/tops.csv')\n",
    "sweaters = pd.read_csv('Mango data/sweaters.csv')\n",
    "jackets = pd.read_csv('Mango data/jackets.csv')\n",
    "blazer_coat = pd.read_csv('Mango data/blazer_coat.csv')\n",
    "trouser_skirt = pd.read_csv('Mango data/trouser_skirt.csv')\n",
    "jean = pd.read_csv('Mango data/jean.csv')\n",
    "short = pd.read_csv('Mango data/short.csv')"
   ]
  },
  {
   "cell_type": "code",
   "execution_count": 1544,
   "metadata": {},
   "outputs": [],
   "source": [
    "data = pd.concat([blouse_shirt, dress_1, dress_2, dress_3, tshirt,tops,sweaters,jackets,blazer_coat,trouser_skirt,jean,short], axis=0)\n",
    "data.reset_index(drop=True, inplace=True)"
   ]
  },
  {
   "cell_type": "code",
   "execution_count": 1545,
   "metadata": {},
   "outputs": [
    {
     "data": {
      "text/plain": [
       "(3961, 7)"
      ]
     },
     "execution_count": 1545,
     "metadata": {},
     "output_type": "execute_result"
    }
   ],
   "source": [
    "data.shape"
   ]
  },
  {
   "cell_type": "code",
   "execution_count": 1546,
   "metadata": {},
   "outputs": [],
   "source": [
    "data.drop(columns='Unnamed: 0', inplace=True)"
   ]
  },
  {
   "cell_type": "markdown",
   "metadata": {},
   "source": [
    "column['type'] cleaning"
   ]
  },
  {
   "cell_type": "code",
   "execution_count": 1547,
   "metadata": {},
   "outputs": [],
   "source": [
    "types = ['Dresses', 'Jumpsuits', 'T-shirts','Tanks', 'Tops', 'Blouses',\n",
    "        'Shirts', 'Sweaters', 'Cardigans', 'Sweatshirts', 'Jackets','Gilets',\n",
    "        'Blazers','Suit jackets', 'Trench coats', 'Coats', 'Quilted coats/Padded']\n",
    "data['type'] = data['type'].apply(lambda x: x.split(',')[-1].strip() if isinstance(x, str) and x.split(',')[-1].strip() in types else x)"
   ]
  },
  {
   "cell_type": "code",
   "execution_count": 1548,
   "metadata": {},
   "outputs": [],
   "source": [
    "data['type'] = data['type'].apply(lambda x: '-'.join(x.split(',')[1:]) if isinstance(x, str) and 'Trousers' in x else x)\n",
    "data['type'] = data['type'].apply(lambda x: '-'.join(x.split(',')[1:]) if isinstance(x, str) and 'Jeans' in x else x)\n",
    "data['type'] = data['type'].apply(lambda x: '-'.join(x.split(',')[1:]) if isinstance(x, str) and 'Skirts' in x else x)\n",
    "data['type'] = data['type'].apply(lambda x: '-'.join(x.split(',')[1:]) if isinstance(x, str) and 'Shorts' in x else x)"
   ]
  },
  {
   "cell_type": "code",
   "execution_count": 1549,
   "metadata": {},
   "outputs": [],
   "source": [
    "data.drop(data[data['type'] == 'Women,Pyjamas'].index, inplace=True)\n",
    "data.drop(data[data['type'] == 'Women,Pyjamas,Bottoms'].index, inplace=True)"
   ]
  },
  {
   "cell_type": "code",
   "execution_count": 1550,
   "metadata": {},
   "outputs": [],
   "source": [
    "pd.set_option('display.max_colwidth', None)\n",
    "data[data['type']== 'Women,Dresses and jumpsuits,Long']['image_link']\n",
    "data['type'].replace({'Women,Dresses and jumpsuits,Long': 'Jumpsuits'}, inplace=True)\n"
   ]
  },
  {
   "cell_type": "code",
   "execution_count": 1551,
   "metadata": {},
   "outputs": [],
   "source": [
    "data[data['type']== 'Women,Dresses and jumpsuits,Short']['image_link']\n",
    "data['type'].replace({'Women,Dresses and jumpsuits,Short': 'Jumpsuits'}, inplace=True)\n"
   ]
  },
  {
   "cell_type": "code",
   "execution_count": 1552,
   "metadata": {},
   "outputs": [],
   "source": [
    "data[data['type']=='Women,More accessories,Other accessories']['image_link']\n",
    "data.drop(data[data['type'] == 'Women,More accessories,Other accessories'].index, inplace=True)"
   ]
  },
  {
   "cell_type": "code",
   "execution_count": 1553,
   "metadata": {},
   "outputs": [],
   "source": [
    "data[data['type']=='Women,Jackets,Denim']['image_link']\n",
    "data['type'].replace({'Women,Jackets,Denim': 'Jackets'}, inplace=True)"
   ]
  },
  {
   "cell_type": "code",
   "execution_count": 1554,
   "metadata": {},
   "outputs": [],
   "source": [
    "data[data['type']=='Women,Sweaters and cardigans,Striped']['image_link']\n",
    "data['type'].replace({'Women,Sweaters and cardigans,Striped': 'Cardigans'}, inplace=True)\n",
    "  "
   ]
  },
  {
   "cell_type": "code",
   "execution_count": 1555,
   "metadata": {},
   "outputs": [],
   "source": [
    "data[data['type']=='Trousers-Party']['image_link']\n",
    "data['type'].replace({'Trousers-Party': 'Trousers-Leggings'}, inplace=True)"
   ]
  },
  {
   "cell_type": "code",
   "execution_count": 1556,
   "metadata": {},
   "outputs": [],
   "source": [
    "data[data['type']=='Women,T-shirts,Long sleeve']['image_link']\n",
    "data['type'].replace({'Women,T-shirts,Long sleeve': 'T-shirts'}, inplace=True)"
   ]
  },
  {
   "cell_type": "code",
   "execution_count": 1557,
   "metadata": {},
   "outputs": [],
   "source": [
    "data[data['type']=='Women,Blouses and shirts,Cotton']['image_link']\n",
    "data['type'].replace({'Women,Blouses and shirts,Cotton': 'Shirts'}, inplace=True)"
   ]
  },
  {
   "cell_type": "code",
   "execution_count": 1604,
   "metadata": {},
   "outputs": [
    {
     "data": {
      "text/plain": [
       "Dresses                 671\n",
       "Jeans                   461\n",
       "Trousers                394\n",
       "Sweaters                327\n",
       "Shirts                  274\n",
       "Skirts                  258\n",
       "Jackets                 244\n",
       "Tshirts                 225\n",
       "Tops                    179\n",
       "Cardigans               140\n",
       "Jumpsuits               132\n",
       "Blouses                 108\n",
       "Blazers                  81\n",
       "Shorts                   60\n",
       "Coats                    48\n",
       "Suit jackets             45\n",
       "Trench coats             42\n",
       "Gilets                   42\n",
       "Sweatshirts              32\n",
       "Quilted coats/Padded     30\n",
       "Name: type, dtype: int64"
      ]
     },
     "execution_count": 1604,
     "metadata": {},
     "output_type": "execute_result"
    }
   ],
   "source": [
    "data['type'].value_counts()"
   ]
  },
  {
   "cell_type": "code",
   "execution_count": 1559,
   "metadata": {},
   "outputs": [],
   "source": [
    "data['type'].replace({'T-shirts': 'Tshirts'}, inplace=True)"
   ]
  },
  {
   "cell_type": "code",
   "execution_count": 1560,
   "metadata": {},
   "outputs": [],
   "source": [
    "def process_type(type):\n",
    "    if isinstance(type, str):\n",
    "        parts = type.split('-')\n",
    "        if len(parts) > 1 and parts[0].strip():\n",
    "            return parts[0].strip()\n",
    "    return type\n",
    "\n",
    "data['type'] = data['type'].apply(process_type)"
   ]
  },
  {
   "cell_type": "markdown",
   "metadata": {},
   "source": [
    "column['color] cleaning"
   ]
  },
  {
   "cell_type": "code",
   "execution_count": 1562,
   "metadata": {},
   "outputs": [],
   "source": [
    "def combine_colors(data, colors_to_combine):\n",
    "    for color in colors_to_combine:\n",
    "        data.loc[data['color'].str.contains(color, case=False), 'color'] = color\n",
    "        \n",
    "colors_to_combine = ['Blue', 'Red', 'Green', 'Yellow', 'White', 'Grey', 'Brown', 'Orange', 'Pink', 'Black', 'Purple','Navy']\n",
    "combine_colors(data, colors_to_combine)\n"
   ]
  },
  {
   "cell_type": "code",
   "execution_count": 1563,
   "metadata": {},
   "outputs": [],
   "source": [
    "data[data['color']=='Vanilla']['image_link']\n",
    "data['color'].replace({'Vanilla': 'Ecru'}, inplace=True)"
   ]
  },
  {
   "cell_type": "code",
   "execution_count": 1564,
   "metadata": {},
   "outputs": [],
   "source": [
    "data[data['color']=='Lilac']['image_link']\n",
    "data['color'].replace({'Lilac': 'Purple'}, inplace=True)"
   ]
  },
  {
   "cell_type": "code",
   "execution_count": 1565,
   "metadata": {},
   "outputs": [],
   "source": [
    "data[data['color']=='Strawberry']['image_link']\n",
    "data['color'].replace({'Strawberry': 'Pink'}, inplace=True)\n"
   ]
  },
  {
   "cell_type": "code",
   "execution_count": 1566,
   "metadata": {},
   "outputs": [],
   "source": [
    "data[data['color']=='Maroon']['image_link']\n",
    "data['color'].replace({'Maroon': 'Brown'}, inplace=True)"
   ]
  },
  {
   "cell_type": "code",
   "execution_count": 1567,
   "metadata": {},
   "outputs": [],
   "source": [
    "data[data['color']=='Lime']['image_link']\n",
    "data['color'].replace({'Lime': 'Yellow'}, inplace=True)"
   ]
  },
  {
   "cell_type": "code",
   "execution_count": 1568,
   "metadata": {},
   "outputs": [],
   "source": [
    "data[data['color']=='Clementine']['image_link']\n",
    "data['color'].replace({'Clementine': 'Orange'}, inplace=True)"
   ]
  },
  {
   "cell_type": "code",
   "execution_count": 1569,
   "metadata": {},
   "outputs": [],
   "source": [
    "data[data['color']=='Wine']['image_link']\n",
    "data['color'].replace({'Wine': 'Burgundy'}, inplace=True)"
   ]
  },
  {
   "cell_type": "code",
   "execution_count": 1570,
   "metadata": {},
   "outputs": [],
   "source": [
    "data[data['color']=='Mustard']['image_link']\n",
    "data['color'].replace({'Mustard': 'Yellow'}, inplace=True)"
   ]
  },
  {
   "cell_type": "code",
   "execution_count": 1571,
   "metadata": {},
   "outputs": [],
   "source": [
    "data[data['color']=='Cognac']['image_link']\n",
    "data['color'].replace({'Cognac': 'Brown'}, inplace=True)"
   ]
  },
  {
   "cell_type": "code",
   "execution_count": 1572,
   "metadata": {},
   "outputs": [],
   "source": [
    "data[data['color']=='Cherry']['image_link']\n",
    "data['color'].replace({'Cherry': 'Burgundy'}, inplace=True)"
   ]
  },
  {
   "cell_type": "code",
   "execution_count": 1573,
   "metadata": {},
   "outputs": [],
   "source": [
    "data[data['color']=='Fuchsia']['image_link']\n",
    "data['color'].replace({'Fuchsia': 'Pink'}, inplace=True)"
   ]
  },
  {
   "cell_type": "code",
   "execution_count": 1603,
   "metadata": {},
   "outputs": [
    {
     "data": {
      "text/plain": [
       "Black        771\n",
       "Blue         564\n",
       "Ecru         329\n",
       "White        329\n",
       "Grey         283\n",
       "Green        269\n",
       "Khaki        198\n",
       "Brown        183\n",
       "Pink         167\n",
       "Beige        146\n",
       "Red          119\n",
       "Navy         112\n",
       "Sand          67\n",
       "Charcoal      52\n",
       "Silver        51\n",
       "Orange        34\n",
       "Yellow        32\n",
       "Purple        29\n",
       "Burgundy      21\n",
       "Russet        15\n",
       "Gold          14\n",
       "Turquoise      8\n",
       "Name: color, dtype: int64"
      ]
     },
     "execution_count": 1603,
     "metadata": {},
     "output_type": "execute_result"
    }
   ],
   "source": [
    "data['color'].value_counts()"
   ]
  },
  {
   "cell_type": "markdown",
   "metadata": {},
   "source": [
    "column['combi_type'] cleaning"
   ]
  },
  {
   "cell_type": "code",
   "execution_count": 1575,
   "metadata": {},
   "outputs": [],
   "source": [
    "types = ['Cushion covers','Pillow cases','Duvet cover','Blankets','Mikado and candles','Pyjamas','Bikinis and swimsuits','Rugs']\n",
    "data.drop(data[data['combi_type'].apply(lambda x: isinstance(x, str) and x.split(',')[1].strip() in types)].index, inplace=True)"
   ]
  },
  {
   "cell_type": "code",
   "execution_count": 1576,
   "metadata": {},
   "outputs": [],
   "source": [
    "data['combi_type'] = data['combi_type'].apply(lambda x: x.split(',')[1].strip() if isinstance(x, str) else x)"
   ]
  },
  {
   "cell_type": "code",
   "execution_count": 1577,
   "metadata": {},
   "outputs": [],
   "source": [
    "data[data['combi_type']=='More accessories']['combi_image_link']\n",
    "data.drop(data[data['combi_type'] == 'More accessories'].index, inplace=True)"
   ]
  },
  {
   "cell_type": "code",
   "execution_count": 1578,
   "metadata": {},
   "outputs": [],
   "source": [
    "data['combi_type'].replace({'T-shirts': 'Tshirts'}, inplace=True)"
   ]
  },
  {
   "cell_type": "code",
   "execution_count": 1602,
   "metadata": {},
   "outputs": [
    {
     "data": {
      "text/plain": [
       "Shoes                     912\n",
       "Jewellery                 818\n",
       "Bags                      814\n",
       "Sweaters and cardigans    184\n",
       "Trousers                  173\n",
       "Jeans                     148\n",
       "Blouses and shirts        109\n",
       "Skirts                    105\n",
       "Tshirts                   101\n",
       "Tops                       93\n",
       "Sunglasses                 89\n",
       "Jackets                    83\n",
       "Blazers                    60\n",
       "Belts                      52\n",
       "Coats                      17\n",
       "Shorts                     17\n",
       "Dresses and jumpsuits       9\n",
       "Foulards and scarves        7\n",
       "Wallets and cases           1\n",
       "Hats and caps               1\n",
       "Name: combi_type, dtype: int64"
      ]
     },
     "execution_count": 1602,
     "metadata": {},
     "output_type": "execute_result"
    }
   ],
   "source": [
    "data['combi_type'].value_counts()\n",
    "\n",
    "                                  "
   ]
  },
  {
   "cell_type": "markdown",
   "metadata": {},
   "source": [
    "column['combi_color'] cleaning"
   ]
  },
  {
   "cell_type": "code",
   "execution_count": 1580,
   "metadata": {},
   "outputs": [],
   "source": [
    "def combi_colors(data, colors_to_combine):\n",
    "    for color in colors_to_combine:\n",
    "        data.loc[data['combi_color'].str.contains(color, case=False), 'combi_color'] = color\n",
    "        \n",
    "colors_to_combine = ['Blue', 'Red', 'Green', 'Yellow', 'White', 'Grey', 'Brown', 'Orange', 'Pink', 'Black', 'Purple','Navy', 'Silver']\n",
    "combi_colors(data, colors_to_combine)"
   ]
  },
  {
   "cell_type": "code",
   "execution_count": 1581,
   "metadata": {},
   "outputs": [],
   "source": [
    "data[data['combi_color']=='Vanilla']['combi_image_link']\n",
    "data['combi_color'].replace({'Vanilla': 'Ecru'}, inplace=True)"
   ]
  },
  {
   "cell_type": "code",
   "execution_count": 1582,
   "metadata": {},
   "outputs": [],
   "source": [
    "data[data['combi_color']=='Chocolate']['combi_image_link']\n",
    "data['combi_color'].replace({'Chocolate': 'Brown'}, inplace=True)"
   ]
  },
  {
   "cell_type": "code",
   "execution_count": 1583,
   "metadata": {},
   "outputs": [],
   "source": [
    "data[data['combi_color']=='Fuchsia']['combi_image_link']\n",
    "data['combi_color'].replace({'Fuchsia': 'Pink'}, inplace=True)"
   ]
  },
  {
   "cell_type": "code",
   "execution_count": 1584,
   "metadata": {},
   "outputs": [],
   "source": [
    "data[data['combi_color']=='Peach']['combi_image_link']\n",
    "data['combi_color'].replace({'Peach': 'Nude'}, inplace=True)"
   ]
  },
  {
   "cell_type": "code",
   "execution_count": 1585,
   "metadata": {},
   "outputs": [],
   "source": [
    "data[data['combi_color']=='Copper']['combi_image_link']\n",
    "data['combi_color'].replace({'Copper': 'Nude'}, inplace=True)"
   ]
  },
  {
   "cell_type": "code",
   "execution_count": 1586,
   "metadata": {},
   "outputs": [],
   "source": [
    "data[data['combi_color']=='Coffee']['combi_image_link']\n",
    "data['combi_color'].replace({'Coffee': 'Brown'}, inplace=True)"
   ]
  },
  {
   "cell_type": "code",
   "execution_count": 1587,
   "metadata": {},
   "outputs": [],
   "source": [
    "data[data['combi_color']=='Wine']['combi_image_link']\n",
    "data['combi_color'].replace({'Wine': 'Burgundy'}, inplace=True)"
   ]
  },
  {
   "cell_type": "code",
   "execution_count": 1588,
   "metadata": {},
   "outputs": [],
   "source": [
    "data[data['combi_color']=='Caramel']['combi_image_link']\n",
    "data['combi_color'].replace({'Caramel': 'Ecru'}, inplace=True)"
   ]
  },
  {
   "cell_type": "code",
   "execution_count": 1589,
   "metadata": {},
   "outputs": [],
   "source": [
    "data[data['combi_color']=='Lime']['combi_image_link']\n",
    "data['combi_color'].replace({'Lime': 'Yellow'}, inplace=True)"
   ]
  },
  {
   "cell_type": "code",
   "execution_count": 1590,
   "metadata": {},
   "outputs": [],
   "source": [
    "data[data['combi_color']=='Clementine']['combi_image_link']\n",
    "data['combi_color'].replace({'Clementine': 'Orange'}, inplace=True)"
   ]
  },
  {
   "cell_type": "code",
   "execution_count": 1591,
   "metadata": {},
   "outputs": [],
   "source": [
    "data[data['combi_color']=='Ochre']['combi_image_link']\n",
    "data['combi_color'].replace({'Ochre': 'Brown'}, inplace=True)"
   ]
  },
  {
   "cell_type": "code",
   "execution_count": 1592,
   "metadata": {},
   "outputs": [],
   "source": [
    "data[data['combi_color']=='Maroon']['combi_image_link']\n",
    "data['combi_color'].replace({'Maroon': 'Burgundy'}, inplace=True)"
   ]
  },
  {
   "cell_type": "code",
   "execution_count": 1593,
   "metadata": {},
   "outputs": [],
   "source": [
    "data[data['combi_color']=='Strawberry']['combi_image_link']\n",
    "data['combi_color'].replace({'Strawberry': 'Pink'}, inplace=True)"
   ]
  },
  {
   "cell_type": "code",
   "execution_count": 1601,
   "metadata": {},
   "outputs": [
    {
     "data": {
      "text/plain": [
       "Black       1330\n",
       "Silver       641\n",
       "Gold         407\n",
       "White        353\n",
       "Ecru         197\n",
       "Blue         163\n",
       "Grey         151\n",
       "Brown        150\n",
       "Beige         92\n",
       "Leather       44\n",
       "Red           34\n",
       "Pink          33\n",
       "Khaki         31\n",
       "Green         31\n",
       "Charcoal      28\n",
       "Navy          26\n",
       "Burgundy      25\n",
       "Sand          22\n",
       "Nude          22\n",
       "Yellow         8\n",
       "Orange         3\n",
       "Russet         2\n",
       "Name: combi_color, dtype: int64"
      ]
     },
     "execution_count": 1601,
     "metadata": {},
     "output_type": "execute_result"
    }
   ],
   "source": [
    "data['combi_color'].value_counts()"
   ]
  },
  {
   "cell_type": "markdown",
   "metadata": {},
   "source": [
    "Missing values"
   ]
  },
  {
   "cell_type": "code",
   "execution_count": 1595,
   "metadata": {},
   "outputs": [
    {
     "data": {
      "text/plain": [
       "image_link           0\n",
       "type                 4\n",
       "color                0\n",
       "combi_image_link     0\n",
       "combi_type          97\n",
       "combi_color          0\n",
       "dtype: int64"
      ]
     },
     "execution_count": 1595,
     "metadata": {},
     "output_type": "execute_result"
    }
   ],
   "source": [
    "data.isna().sum()"
   ]
  },
  {
   "cell_type": "code",
   "execution_count": 1596,
   "metadata": {},
   "outputs": [
    {
     "data": {
      "text/plain": [
       "1146    https://st.mngbcn.com/rcs/pics/static/T5/fotos/S20/57050249_43_B.jpg?ts=1679665231304&imwidth=194&imdensity=2\n",
       "1147    https://st.mngbcn.com/rcs/pics/static/T5/fotos/S20/57050249_43_B.jpg?ts=1679665231304&imwidth=194&imdensity=2\n",
       "1148    https://st.mngbcn.com/rcs/pics/static/T5/fotos/S20/57050249_43_B.jpg?ts=1679665231304&imwidth=194&imdensity=2\n",
       "1149    https://st.mngbcn.com/rcs/pics/static/T5/fotos/S20/57050249_43_B.jpg?ts=1679665231304&imwidth=194&imdensity=2\n",
       "Name: image_link, dtype: object"
      ]
     },
     "execution_count": 1596,
     "metadata": {},
     "output_type": "execute_result"
    }
   ],
   "source": [
    "data[data['type'].isna()]['image_link']"
   ]
  },
  {
   "cell_type": "code",
   "execution_count": 1597,
   "metadata": {},
   "outputs": [],
   "source": [
    "data.loc[data['type'].isna(), 'type'] = 'Dresses'"
   ]
  },
  {
   "cell_type": "code",
   "execution_count": 1598,
   "metadata": {},
   "outputs": [],
   "source": [
    "data.loc[data['combi_type'].isna()].to_csv('missing combi_types.csv')"
   ]
  },
  {
   "cell_type": "code",
   "execution_count": 1599,
   "metadata": {},
   "outputs": [],
   "source": [
    "data.drop(data[data['combi_type'].isna()].index, inplace=True)"
   ]
  },
  {
   "cell_type": "code",
   "execution_count": 1607,
   "metadata": {},
   "outputs": [],
   "source": [
    "data['match']=1"
   ]
  },
  {
   "cell_type": "code",
   "execution_count": 1608,
   "metadata": {},
   "outputs": [],
   "source": [
    "data.reset_index(drop=True, inplace=True)\n",
    "data.to_csv('Mango data/cleaned_Mango_data.csv')"
   ]
  },
  {
   "cell_type": "markdown",
   "metadata": {},
   "source": [
    "## 3- Image download"
   ]
  },
  {
   "cell_type": "code",
   "execution_count": 1437,
   "metadata": {},
   "outputs": [],
   "source": [
    "def modified_url(url):\n",
    "    # Split the URL by '?' to separate the base URL and the parameters\n",
    "    base_url, params = url.split('?')\n",
    "\n",
    "    # Split the parameters by '&' to separate them\n",
    "    params_list = params.split('&')\n",
    "\n",
    "    # Create a dictionary to store the parameters\n",
    "    params_dict = {}\n",
    "    for param in params_list:\n",
    "        key, value = param.split('=')\n",
    "        params_dict[key] = value\n",
    "\n",
    "    # Modify the parameters\n",
    "    params_dict['imwidth'] = '224'\n",
    "    params_dict['imdensity'] = '3'\n",
    "\n",
    "    # Reconstruct the modified URL\n",
    "    return base_url + '?' + '&'.join([f\"{key}={value}\" for key, value in params_dict.items()])\n"
   ]
  },
  {
   "cell_type": "code",
   "execution_count": 1438,
   "metadata": {},
   "outputs": [],
   "source": [
    "def download_image(url, folder, name):\n",
    "    url = modified_url(url)\n",
    "    # Send a GET request to the image URL\n",
    "    response = requests.get(url)\n",
    "\n",
    "    # Check if the request was successful (status code 200)\n",
    "    if response.status_code == 200:\n",
    "        # Open a file in binary write mode and write the image content to it\n",
    "        with open(folder + '/' + name + \".jpg\", \"wb\") as file:\n",
    "            file.write(response.content)    \n",
    "    else:\n",
    "        print(\"Failed to download image url:\", url)"
   ]
  },
  {
   "cell_type": "code",
   "execution_count": null,
   "metadata": {},
   "outputs": [],
   "source": [
    "for index, row in data.iterrows():\n",
    "        image_url = row['image_link']\n",
    "        image_name = f\"A{index}\"  # Creating a unique name for each image\n",
    "        print(f'Progress: {index} / {data.shape[0]}', end='\\r')\n",
    "        download_image(image_url, 'A-Mango-images', image_name)"
   ]
  },
  {
   "cell_type": "code",
   "execution_count": null,
   "metadata": {},
   "outputs": [
    {
     "name": "stdout",
     "output_type": "stream",
     "text": [
      "Progress: 3792 / 3793\r"
     ]
    }
   ],
   "source": [
    "for index, row in data.iterrows():\n",
    "        image_url = row['combi_image_link']\n",
    "        image_name = f\"B{index}\"  # Creating a unique name for each image\n",
    "        print(f'Progress: {index} / {data.shape[0]}', end='\\r')\n",
    "        download_image(image_url, 'B-Mango-images', image_name)"
   ]
  }
 ],
 "metadata": {
  "kernelspec": {
   "display_name": "base",
   "language": "python",
   "name": "python3"
  },
  "language_info": {
   "codemirror_mode": {
    "name": "ipython",
    "version": 3
   },
   "file_extension": ".py",
   "mimetype": "text/x-python",
   "name": "python",
   "nbconvert_exporter": "python",
   "pygments_lexer": "ipython3",
   "version": "3.11.4"
  },
  "orig_nbformat": 4
 },
 "nbformat": 4,
 "nbformat_minor": 2
}
