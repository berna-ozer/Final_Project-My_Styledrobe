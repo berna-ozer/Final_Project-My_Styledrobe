{
 "cells": [
  {
   "cell_type": "code",
   "execution_count": 475,
   "metadata": {},
   "outputs": [],
   "source": [
    "import pandas as pd\n",
    "import tensorflow as tf\n",
    "from tensorflow.keras.preprocessing.image import ImageDataGenerator\n",
    "from sklearn.model_selection import train_test_split\n",
    "from tensorflow.keras import layers, models\n",
    "from tensorflow.keras.applications import ResNet50\n",
    "from tensorflow.keras.models import load_model\n"
   ]
  },
  {
   "cell_type": "markdown",
   "metadata": {},
   "source": [
    "## 1- Preprocessing the data"
   ]
  },
  {
   "cell_type": "code",
   "execution_count": 429,
   "metadata": {},
   "outputs": [],
   "source": [
    "data = pd.read_csv('all_data.csv',index_col=0)"
   ]
  },
  {
   "cell_type": "code",
   "execution_count": 430,
   "metadata": {},
   "outputs": [
    {
     "data": {
      "text/html": [
       "<div>\n",
       "<style scoped>\n",
       "    .dataframe tbody tr th:only-of-type {\n",
       "        vertical-align: middle;\n",
       "    }\n",
       "\n",
       "    .dataframe tbody tr th {\n",
       "        vertical-align: top;\n",
       "    }\n",
       "\n",
       "    .dataframe thead th {\n",
       "        text-align: right;\n",
       "    }\n",
       "</style>\n",
       "<table border=\"1\" class=\"dataframe\">\n",
       "  <thead>\n",
       "    <tr style=\"text-align: right;\">\n",
       "      <th></th>\n",
       "      <th>image_link</th>\n",
       "      <th>type</th>\n",
       "      <th>color</th>\n",
       "      <th>combi_image_link</th>\n",
       "      <th>combi_type</th>\n",
       "      <th>combi_color</th>\n",
       "      <th>match</th>\n",
       "    </tr>\n",
       "  </thead>\n",
       "  <tbody>\n",
       "    <tr>\n",
       "      <th>0</th>\n",
       "      <td>A-Mango-images/A0</td>\n",
       "      <td>Shirts</td>\n",
       "      <td>Ecru</td>\n",
       "      <td>B-Mango-images/B0</td>\n",
       "      <td>Skirts</td>\n",
       "      <td>Ecru</td>\n",
       "      <td>1</td>\n",
       "    </tr>\n",
       "    <tr>\n",
       "      <th>1</th>\n",
       "      <td>A-Mango-images/A1</td>\n",
       "      <td>Shirts</td>\n",
       "      <td>Ecru</td>\n",
       "      <td>B-Mango-images/B1</td>\n",
       "      <td>Bags</td>\n",
       "      <td>Brown</td>\n",
       "      <td>1</td>\n",
       "    </tr>\n",
       "    <tr>\n",
       "      <th>2</th>\n",
       "      <td>A-Mango-images/A2</td>\n",
       "      <td>Shirts</td>\n",
       "      <td>Ecru</td>\n",
       "      <td>B-Mango-images/B2</td>\n",
       "      <td>Jewellery</td>\n",
       "      <td>Gold</td>\n",
       "      <td>1</td>\n",
       "    </tr>\n",
       "    <tr>\n",
       "      <th>3</th>\n",
       "      <td>A-Mango-images/A3</td>\n",
       "      <td>Shirts</td>\n",
       "      <td>Pink</td>\n",
       "      <td>B-Mango-images/B3</td>\n",
       "      <td>Trousers</td>\n",
       "      <td>Pink</td>\n",
       "      <td>1</td>\n",
       "    </tr>\n",
       "    <tr>\n",
       "      <th>4</th>\n",
       "      <td>A-Mango-images/A4</td>\n",
       "      <td>Shirts</td>\n",
       "      <td>Pink</td>\n",
       "      <td>B-Mango-images/B4</td>\n",
       "      <td>Shoes</td>\n",
       "      <td>Silver</td>\n",
       "      <td>1</td>\n",
       "    </tr>\n",
       "  </tbody>\n",
       "</table>\n",
       "</div>"
      ],
      "text/plain": [
       "          image_link    type color   combi_image_link combi_type combi_color  \\\n",
       "0  A-Mango-images/A0  Shirts  Ecru  B-Mango-images/B0     Skirts        Ecru   \n",
       "1  A-Mango-images/A1  Shirts  Ecru  B-Mango-images/B1       Bags       Brown   \n",
       "2  A-Mango-images/A2  Shirts  Ecru  B-Mango-images/B2  Jewellery        Gold   \n",
       "3  A-Mango-images/A3  Shirts  Pink  B-Mango-images/B3   Trousers        Pink   \n",
       "4  A-Mango-images/A4  Shirts  Pink  B-Mango-images/B4      Shoes      Silver   \n",
       "\n",
       "   match  \n",
       "0      1  \n",
       "1      1  \n",
       "2      1  \n",
       "3      1  \n",
       "4      1  "
      ]
     },
     "execution_count": 430,
     "metadata": {},
     "output_type": "execute_result"
    }
   ],
   "source": [
    "data.head()"
   ]
  },
  {
   "cell_type": "code",
   "execution_count": 431,
   "metadata": {},
   "outputs": [],
   "source": [
    "new_data = pd.read_csv('all_data.csv',index_col=0)\n",
    "new_data = new_data.rename(columns={'image_link': 'combi_image_link', 'type':'combi_type','color':'combi_color',\n",
    "             'combi_image_link':'image_link','combi_type':'type','combi_color':'color'})"
   ]
  },
  {
   "cell_type": "code",
   "execution_count": 432,
   "metadata": {},
   "outputs": [
    {
     "data": {
      "text/html": [
       "<div>\n",
       "<style scoped>\n",
       "    .dataframe tbody tr th:only-of-type {\n",
       "        vertical-align: middle;\n",
       "    }\n",
       "\n",
       "    .dataframe tbody tr th {\n",
       "        vertical-align: top;\n",
       "    }\n",
       "\n",
       "    .dataframe thead th {\n",
       "        text-align: right;\n",
       "    }\n",
       "</style>\n",
       "<table border=\"1\" class=\"dataframe\">\n",
       "  <thead>\n",
       "    <tr style=\"text-align: right;\">\n",
       "      <th></th>\n",
       "      <th>combi_image_link</th>\n",
       "      <th>combi_type</th>\n",
       "      <th>combi_color</th>\n",
       "      <th>image_link</th>\n",
       "      <th>type</th>\n",
       "      <th>color</th>\n",
       "      <th>match</th>\n",
       "    </tr>\n",
       "  </thead>\n",
       "  <tbody>\n",
       "    <tr>\n",
       "      <th>0</th>\n",
       "      <td>A-Mango-images/A0</td>\n",
       "      <td>Shirts</td>\n",
       "      <td>Ecru</td>\n",
       "      <td>B-Mango-images/B0</td>\n",
       "      <td>Skirts</td>\n",
       "      <td>Ecru</td>\n",
       "      <td>1</td>\n",
       "    </tr>\n",
       "    <tr>\n",
       "      <th>1</th>\n",
       "      <td>A-Mango-images/A1</td>\n",
       "      <td>Shirts</td>\n",
       "      <td>Ecru</td>\n",
       "      <td>B-Mango-images/B1</td>\n",
       "      <td>Bags</td>\n",
       "      <td>Brown</td>\n",
       "      <td>1</td>\n",
       "    </tr>\n",
       "    <tr>\n",
       "      <th>2</th>\n",
       "      <td>A-Mango-images/A2</td>\n",
       "      <td>Shirts</td>\n",
       "      <td>Ecru</td>\n",
       "      <td>B-Mango-images/B2</td>\n",
       "      <td>Jewellery</td>\n",
       "      <td>Gold</td>\n",
       "      <td>1</td>\n",
       "    </tr>\n",
       "    <tr>\n",
       "      <th>3</th>\n",
       "      <td>A-Mango-images/A3</td>\n",
       "      <td>Shirts</td>\n",
       "      <td>Pink</td>\n",
       "      <td>B-Mango-images/B3</td>\n",
       "      <td>Trousers</td>\n",
       "      <td>Pink</td>\n",
       "      <td>1</td>\n",
       "    </tr>\n",
       "    <tr>\n",
       "      <th>4</th>\n",
       "      <td>A-Mango-images/A4</td>\n",
       "      <td>Shirts</td>\n",
       "      <td>Pink</td>\n",
       "      <td>B-Mango-images/B4</td>\n",
       "      <td>Shoes</td>\n",
       "      <td>Silver</td>\n",
       "      <td>1</td>\n",
       "    </tr>\n",
       "  </tbody>\n",
       "</table>\n",
       "</div>"
      ],
      "text/plain": [
       "    combi_image_link combi_type combi_color         image_link       type  \\\n",
       "0  A-Mango-images/A0     Shirts        Ecru  B-Mango-images/B0     Skirts   \n",
       "1  A-Mango-images/A1     Shirts        Ecru  B-Mango-images/B1       Bags   \n",
       "2  A-Mango-images/A2     Shirts        Ecru  B-Mango-images/B2  Jewellery   \n",
       "3  A-Mango-images/A3     Shirts        Pink  B-Mango-images/B3   Trousers   \n",
       "4  A-Mango-images/A4     Shirts        Pink  B-Mango-images/B4      Shoes   \n",
       "\n",
       "    color  match  \n",
       "0    Ecru      1  \n",
       "1   Brown      1  \n",
       "2    Gold      1  \n",
       "3    Pink      1  \n",
       "4  Silver      1  "
      ]
     },
     "execution_count": 432,
     "metadata": {},
     "output_type": "execute_result"
    }
   ],
   "source": [
    "new_data.head()"
   ]
  },
  {
   "cell_type": "code",
   "execution_count": 433,
   "metadata": {},
   "outputs": [],
   "source": [
    "data = pd.concat([data,new_data])\n",
    "data.reset_index(drop=True, inplace=True)"
   ]
  },
  {
   "cell_type": "code",
   "execution_count": 434,
   "metadata": {},
   "outputs": [
    {
     "data": {
      "text/html": [
       "<div>\n",
       "<style scoped>\n",
       "    .dataframe tbody tr th:only-of-type {\n",
       "        vertical-align: middle;\n",
       "    }\n",
       "\n",
       "    .dataframe tbody tr th {\n",
       "        vertical-align: top;\n",
       "    }\n",
       "\n",
       "    .dataframe thead th {\n",
       "        text-align: right;\n",
       "    }\n",
       "</style>\n",
       "<table border=\"1\" class=\"dataframe\">\n",
       "  <thead>\n",
       "    <tr style=\"text-align: right;\">\n",
       "      <th></th>\n",
       "      <th>image_link</th>\n",
       "      <th>type</th>\n",
       "      <th>color</th>\n",
       "      <th>combi_image_link</th>\n",
       "      <th>combi_type</th>\n",
       "      <th>combi_color</th>\n",
       "      <th>match</th>\n",
       "    </tr>\n",
       "  </thead>\n",
       "  <tbody>\n",
       "    <tr>\n",
       "      <th>0</th>\n",
       "      <td>A-Mango-images/A0</td>\n",
       "      <td>Shirts</td>\n",
       "      <td>Ecru</td>\n",
       "      <td>B-Mango-images/B0</td>\n",
       "      <td>Skirts</td>\n",
       "      <td>Ecru</td>\n",
       "      <td>1</td>\n",
       "    </tr>\n",
       "    <tr>\n",
       "      <th>1</th>\n",
       "      <td>A-Mango-images/A1</td>\n",
       "      <td>Shirts</td>\n",
       "      <td>Ecru</td>\n",
       "      <td>B-Mango-images/B1</td>\n",
       "      <td>Bags</td>\n",
       "      <td>Brown</td>\n",
       "      <td>1</td>\n",
       "    </tr>\n",
       "    <tr>\n",
       "      <th>2</th>\n",
       "      <td>A-Mango-images/A2</td>\n",
       "      <td>Shirts</td>\n",
       "      <td>Ecru</td>\n",
       "      <td>B-Mango-images/B2</td>\n",
       "      <td>Jewellery</td>\n",
       "      <td>Gold</td>\n",
       "      <td>1</td>\n",
       "    </tr>\n",
       "    <tr>\n",
       "      <th>3</th>\n",
       "      <td>A-Mango-images/A3</td>\n",
       "      <td>Shirts</td>\n",
       "      <td>Pink</td>\n",
       "      <td>B-Mango-images/B3</td>\n",
       "      <td>Trousers</td>\n",
       "      <td>Pink</td>\n",
       "      <td>1</td>\n",
       "    </tr>\n",
       "    <tr>\n",
       "      <th>4</th>\n",
       "      <td>A-Mango-images/A4</td>\n",
       "      <td>Shirts</td>\n",
       "      <td>Pink</td>\n",
       "      <td>B-Mango-images/B4</td>\n",
       "      <td>Shoes</td>\n",
       "      <td>Silver</td>\n",
       "      <td>1</td>\n",
       "    </tr>\n",
       "  </tbody>\n",
       "</table>\n",
       "</div>"
      ],
      "text/plain": [
       "          image_link    type color   combi_image_link combi_type combi_color  \\\n",
       "0  A-Mango-images/A0  Shirts  Ecru  B-Mango-images/B0     Skirts        Ecru   \n",
       "1  A-Mango-images/A1  Shirts  Ecru  B-Mango-images/B1       Bags       Brown   \n",
       "2  A-Mango-images/A2  Shirts  Ecru  B-Mango-images/B2  Jewellery        Gold   \n",
       "3  A-Mango-images/A3  Shirts  Pink  B-Mango-images/B3   Trousers        Pink   \n",
       "4  A-Mango-images/A4  Shirts  Pink  B-Mango-images/B4      Shoes      Silver   \n",
       "\n",
       "   match  \n",
       "0      1  \n",
       "1      1  \n",
       "2      1  \n",
       "3      1  \n",
       "4      1  "
      ]
     },
     "execution_count": 434,
     "metadata": {},
     "output_type": "execute_result"
    }
   ],
   "source": [
    "data.head()"
   ]
  },
  {
   "cell_type": "code",
   "execution_count": 435,
   "metadata": {},
   "outputs": [],
   "source": [
    "data['type_indices'] = pd.factorize(data['type'])[0]\n",
    "data['color_indices'] = pd.factorize(data['color'])[0]\n",
    "data['combi_type_indices'] = pd.factorize(data['combi_type'])[0]\n",
    "data['combi_color_indices'] = pd.factorize(data['combi_color'])[0]"
   ]
  },
  {
   "cell_type": "code",
   "execution_count": 436,
   "metadata": {},
   "outputs": [],
   "source": [
    "train, test = train_test_split(data, test_size=0.2, random_state=42)"
   ]
  },
  {
   "cell_type": "markdown",
   "metadata": {},
   "source": [
    "## 2- Image Preprocessing"
   ]
  },
  {
   "cell_type": "code",
   "execution_count": 437,
   "metadata": {},
   "outputs": [],
   "source": [
    "def preprocess_image(image_path):\n",
    "    image = tf.io.read_file(image_path + '.jpg')\n",
    "    image = tf.image.decode_jpeg(image, channels=3)\n",
    "    image = tf.image.resize(image, [224, 224])  # Resizing the image to 224x224\n",
    "    image = image / 255.0  # Normalizing to [0,1]\n",
    "    return image\n",
    "\n",
    "def process_row(row):\n",
    "    # Process images\n",
    "    image = preprocess_image(row['image_link'])\n",
    "    combi_image = preprocess_image(row['combi_image_link'])\n",
    "    \n",
    "    type = tf.one_hot(row['type_indices'], depth=len(data['type'].unique()))\n",
    "    combi_type = tf.one_hot(row['combi_type_indices'], depth=len(data['combi_type'].unique()))\n",
    "    color = tf.one_hot(row['color_indices'], depth=len(data['color'].unique()))\n",
    "    combi_color = tf.one_hot(row['combi_color_indices'], depth=len(data['combi_color'].unique()))\n",
    "    \n",
    "    # Combine all features\n",
    "    features = (image, combi_image, type, combi_type, color, combi_color)\n",
    "    label = row['match']\n",
    "    \n",
    "    return features, label\n",
    "\n",
    "def tf_dataset(df, batch_size=32):\n",
    "    ds = tf.data.Dataset.from_tensor_slices(dict(df))\n",
    "    ds = ds.map(process_row, num_parallel_calls=tf.data.AUTOTUNE)\n",
    "    ds = ds.batch(batch_size)\n",
    "    ds = ds.prefetch(tf.data.AUTOTUNE)\n",
    "    return ds\n",
    "\n",
    "# Create TensorFlow datasets\n",
    "train_ds = tf_dataset(train)\n",
    "test_ds = tf_dataset(test)"
   ]
  },
  {
   "cell_type": "markdown",
   "metadata": {},
   "source": [
    "## 3- Model Architecture"
   ]
  },
  {
   "cell_type": "code",
   "execution_count": 438,
   "metadata": {},
   "outputs": [
    {
     "data": {
      "text/html": [
       "<pre style=\"white-space:pre;overflow-x:auto;line-height:normal;font-family:Menlo,'DejaVu Sans Mono',consolas,'Courier New',monospace\"><span style=\"font-weight: bold\">Model: \"functional_38\"</span>\n",
       "</pre>\n"
      ],
      "text/plain": [
       "\u001b[1mModel: \"functional_38\"\u001b[0m\n"
      ]
     },
     "metadata": {},
     "output_type": "display_data"
    },
    {
     "data": {
      "text/html": [
       "<pre style=\"white-space:pre;overflow-x:auto;line-height:normal;font-family:Menlo,'DejaVu Sans Mono',consolas,'Courier New',monospace\">┏━━━━━━━━━━━━━━━━━━━━━┳━━━━━━━━━━━━━━━━━━━┳━━━━━━━━━━━━┳━━━━━━━━━━━━━━━━━━━┓\n",
       "┃<span style=\"font-weight: bold\"> Layer (type)        </span>┃<span style=\"font-weight: bold\"> Output Shape      </span>┃<span style=\"font-weight: bold\">    Param # </span>┃<span style=\"font-weight: bold\"> Connected to      </span>┃\n",
       "┡━━━━━━━━━━━━━━━━━━━━━╇━━━━━━━━━━━━━━━━━━━╇━━━━━━━━━━━━╇━━━━━━━━━━━━━━━━━━━┩\n",
       "│ input_layer_49      │ (<span style=\"color: #00d7ff; text-decoration-color: #00d7ff\">None</span>, <span style=\"color: #00af00; text-decoration-color: #00af00\">224</span>, <span style=\"color: #00af00; text-decoration-color: #00af00\">224</span>,  │          <span style=\"color: #00af00; text-decoration-color: #00af00\">0</span> │ -                 │\n",
       "│ (<span style=\"color: #0087ff; text-decoration-color: #0087ff\">InputLayer</span>)        │ <span style=\"color: #00af00; text-decoration-color: #00af00\">3</span>)                │            │                   │\n",
       "├─────────────────────┼───────────────────┼────────────┼───────────────────┤\n",
       "│ input_layer_50      │ (<span style=\"color: #00d7ff; text-decoration-color: #00d7ff\">None</span>, <span style=\"color: #00af00; text-decoration-color: #00af00\">224</span>, <span style=\"color: #00af00; text-decoration-color: #00af00\">224</span>,  │          <span style=\"color: #00af00; text-decoration-color: #00af00\">0</span> │ -                 │\n",
       "│ (<span style=\"color: #0087ff; text-decoration-color: #0087ff\">InputLayer</span>)        │ <span style=\"color: #00af00; text-decoration-color: #00af00\">3</span>)                │            │                   │\n",
       "├─────────────────────┼───────────────────┼────────────┼───────────────────┤\n",
       "│ sequential_6        │ (<span style=\"color: #00d7ff; text-decoration-color: #00d7ff\">None</span>, <span style=\"color: #00af00; text-decoration-color: #00af00\">2048</span>)      │ <span style=\"color: #00af00; text-decoration-color: #00af00\">23,587,712</span> │ input_layer_49[<span style=\"color: #00af00; text-decoration-color: #00af00\">0</span>… │\n",
       "│ (<span style=\"color: #0087ff; text-decoration-color: #0087ff\">Sequential</span>)        │                   │            │ input_layer_50[<span style=\"color: #00af00; text-decoration-color: #00af00\">0</span>… │\n",
       "├─────────────────────┼───────────────────┼────────────┼───────────────────┤\n",
       "│ input_layer_51      │ (<span style=\"color: #00d7ff; text-decoration-color: #00d7ff\">None</span>, <span style=\"color: #00af00; text-decoration-color: #00af00\">33</span>)        │          <span style=\"color: #00af00; text-decoration-color: #00af00\">0</span> │ -                 │\n",
       "│ (<span style=\"color: #0087ff; text-decoration-color: #0087ff\">InputLayer</span>)        │                   │            │                   │\n",
       "├─────────────────────┼───────────────────┼────────────┼───────────────────┤\n",
       "│ input_layer_52      │ (<span style=\"color: #00d7ff; text-decoration-color: #00d7ff\">None</span>, <span style=\"color: #00af00; text-decoration-color: #00af00\">33</span>)        │          <span style=\"color: #00af00; text-decoration-color: #00af00\">0</span> │ -                 │\n",
       "│ (<span style=\"color: #0087ff; text-decoration-color: #0087ff\">InputLayer</span>)        │                   │            │                   │\n",
       "├─────────────────────┼───────────────────┼────────────┼───────────────────┤\n",
       "│ input_layer_53      │ (<span style=\"color: #00d7ff; text-decoration-color: #00d7ff\">None</span>, <span style=\"color: #00af00; text-decoration-color: #00af00\">24</span>)        │          <span style=\"color: #00af00; text-decoration-color: #00af00\">0</span> │ -                 │\n",
       "│ (<span style=\"color: #0087ff; text-decoration-color: #0087ff\">InputLayer</span>)        │                   │            │                   │\n",
       "├─────────────────────┼───────────────────┼────────────┼───────────────────┤\n",
       "│ input_layer_54      │ (<span style=\"color: #00d7ff; text-decoration-color: #00d7ff\">None</span>, <span style=\"color: #00af00; text-decoration-color: #00af00\">24</span>)        │          <span style=\"color: #00af00; text-decoration-color: #00af00\">0</span> │ -                 │\n",
       "│ (<span style=\"color: #0087ff; text-decoration-color: #0087ff\">InputLayer</span>)        │                   │            │                   │\n",
       "├─────────────────────┼───────────────────┼────────────┼───────────────────┤\n",
       "│ concatenate_6       │ (<span style=\"color: #00d7ff; text-decoration-color: #00d7ff\">None</span>, <span style=\"color: #00af00; text-decoration-color: #00af00\">4210</span>)      │          <span style=\"color: #00af00; text-decoration-color: #00af00\">0</span> │ sequential_6[<span style=\"color: #00af00; text-decoration-color: #00af00\">0</span>][<span style=\"color: #00af00; text-decoration-color: #00af00\">…</span> │\n",
       "│ (<span style=\"color: #0087ff; text-decoration-color: #0087ff\">Concatenate</span>)       │                   │            │ sequential_6[<span style=\"color: #00af00; text-decoration-color: #00af00\">1</span>][<span style=\"color: #00af00; text-decoration-color: #00af00\">…</span> │\n",
       "│                     │                   │            │ input_layer_51[<span style=\"color: #00af00; text-decoration-color: #00af00\">0</span>… │\n",
       "│                     │                   │            │ input_layer_52[<span style=\"color: #00af00; text-decoration-color: #00af00\">0</span>… │\n",
       "│                     │                   │            │ input_layer_53[<span style=\"color: #00af00; text-decoration-color: #00af00\">0</span>… │\n",
       "│                     │                   │            │ input_layer_54[<span style=\"color: #00af00; text-decoration-color: #00af00\">0</span>… │\n",
       "├─────────────────────┼───────────────────┼────────────┼───────────────────┤\n",
       "│ dense_12 (<span style=\"color: #0087ff; text-decoration-color: #0087ff\">Dense</span>)    │ (<span style=\"color: #00d7ff; text-decoration-color: #00d7ff\">None</span>, <span style=\"color: #00af00; text-decoration-color: #00af00\">512</span>)       │  <span style=\"color: #00af00; text-decoration-color: #00af00\">2,156,032</span> │ concatenate_6[<span style=\"color: #00af00; text-decoration-color: #00af00\">0</span>]… │\n",
       "├─────────────────────┼───────────────────┼────────────┼───────────────────┤\n",
       "│ dropout_6 (<span style=\"color: #0087ff; text-decoration-color: #0087ff\">Dropout</span>) │ (<span style=\"color: #00d7ff; text-decoration-color: #00d7ff\">None</span>, <span style=\"color: #00af00; text-decoration-color: #00af00\">512</span>)       │          <span style=\"color: #00af00; text-decoration-color: #00af00\">0</span> │ dense_12[<span style=\"color: #00af00; text-decoration-color: #00af00\">0</span>][<span style=\"color: #00af00; text-decoration-color: #00af00\">0</span>]    │\n",
       "├─────────────────────┼───────────────────┼────────────┼───────────────────┤\n",
       "│ dense_13 (<span style=\"color: #0087ff; text-decoration-color: #0087ff\">Dense</span>)    │ (<span style=\"color: #00d7ff; text-decoration-color: #00d7ff\">None</span>, <span style=\"color: #00af00; text-decoration-color: #00af00\">1</span>)         │        <span style=\"color: #00af00; text-decoration-color: #00af00\">513</span> │ dropout_6[<span style=\"color: #00af00; text-decoration-color: #00af00\">0</span>][<span style=\"color: #00af00; text-decoration-color: #00af00\">0</span>]   │\n",
       "└─────────────────────┴───────────────────┴────────────┴───────────────────┘\n",
       "</pre>\n"
      ],
      "text/plain": [
       "┏━━━━━━━━━━━━━━━━━━━━━┳━━━━━━━━━━━━━━━━━━━┳━━━━━━━━━━━━┳━━━━━━━━━━━━━━━━━━━┓\n",
       "┃\u001b[1m \u001b[0m\u001b[1mLayer (type)       \u001b[0m\u001b[1m \u001b[0m┃\u001b[1m \u001b[0m\u001b[1mOutput Shape     \u001b[0m\u001b[1m \u001b[0m┃\u001b[1m \u001b[0m\u001b[1m   Param #\u001b[0m\u001b[1m \u001b[0m┃\u001b[1m \u001b[0m\u001b[1mConnected to     \u001b[0m\u001b[1m \u001b[0m┃\n",
       "┡━━━━━━━━━━━━━━━━━━━━━╇━━━━━━━━━━━━━━━━━━━╇━━━━━━━━━━━━╇━━━━━━━━━━━━━━━━━━━┩\n",
       "│ input_layer_49      │ (\u001b[38;5;45mNone\u001b[0m, \u001b[38;5;34m224\u001b[0m, \u001b[38;5;34m224\u001b[0m,  │          \u001b[38;5;34m0\u001b[0m │ -                 │\n",
       "│ (\u001b[38;5;33mInputLayer\u001b[0m)        │ \u001b[38;5;34m3\u001b[0m)                │            │                   │\n",
       "├─────────────────────┼───────────────────┼────────────┼───────────────────┤\n",
       "│ input_layer_50      │ (\u001b[38;5;45mNone\u001b[0m, \u001b[38;5;34m224\u001b[0m, \u001b[38;5;34m224\u001b[0m,  │          \u001b[38;5;34m0\u001b[0m │ -                 │\n",
       "│ (\u001b[38;5;33mInputLayer\u001b[0m)        │ \u001b[38;5;34m3\u001b[0m)                │            │                   │\n",
       "├─────────────────────┼───────────────────┼────────────┼───────────────────┤\n",
       "│ sequential_6        │ (\u001b[38;5;45mNone\u001b[0m, \u001b[38;5;34m2048\u001b[0m)      │ \u001b[38;5;34m23,587,712\u001b[0m │ input_layer_49[\u001b[38;5;34m0\u001b[0m… │\n",
       "│ (\u001b[38;5;33mSequential\u001b[0m)        │                   │            │ input_layer_50[\u001b[38;5;34m0\u001b[0m… │\n",
       "├─────────────────────┼───────────────────┼────────────┼───────────────────┤\n",
       "│ input_layer_51      │ (\u001b[38;5;45mNone\u001b[0m, \u001b[38;5;34m33\u001b[0m)        │          \u001b[38;5;34m0\u001b[0m │ -                 │\n",
       "│ (\u001b[38;5;33mInputLayer\u001b[0m)        │                   │            │                   │\n",
       "├─────────────────────┼───────────────────┼────────────┼───────────────────┤\n",
       "│ input_layer_52      │ (\u001b[38;5;45mNone\u001b[0m, \u001b[38;5;34m33\u001b[0m)        │          \u001b[38;5;34m0\u001b[0m │ -                 │\n",
       "│ (\u001b[38;5;33mInputLayer\u001b[0m)        │                   │            │                   │\n",
       "├─────────────────────┼───────────────────┼────────────┼───────────────────┤\n",
       "│ input_layer_53      │ (\u001b[38;5;45mNone\u001b[0m, \u001b[38;5;34m24\u001b[0m)        │          \u001b[38;5;34m0\u001b[0m │ -                 │\n",
       "│ (\u001b[38;5;33mInputLayer\u001b[0m)        │                   │            │                   │\n",
       "├─────────────────────┼───────────────────┼────────────┼───────────────────┤\n",
       "│ input_layer_54      │ (\u001b[38;5;45mNone\u001b[0m, \u001b[38;5;34m24\u001b[0m)        │          \u001b[38;5;34m0\u001b[0m │ -                 │\n",
       "│ (\u001b[38;5;33mInputLayer\u001b[0m)        │                   │            │                   │\n",
       "├─────────────────────┼───────────────────┼────────────┼───────────────────┤\n",
       "│ concatenate_6       │ (\u001b[38;5;45mNone\u001b[0m, \u001b[38;5;34m4210\u001b[0m)      │          \u001b[38;5;34m0\u001b[0m │ sequential_6[\u001b[38;5;34m0\u001b[0m][\u001b[38;5;34m…\u001b[0m │\n",
       "│ (\u001b[38;5;33mConcatenate\u001b[0m)       │                   │            │ sequential_6[\u001b[38;5;34m1\u001b[0m][\u001b[38;5;34m…\u001b[0m │\n",
       "│                     │                   │            │ input_layer_51[\u001b[38;5;34m0\u001b[0m… │\n",
       "│                     │                   │            │ input_layer_52[\u001b[38;5;34m0\u001b[0m… │\n",
       "│                     │                   │            │ input_layer_53[\u001b[38;5;34m0\u001b[0m… │\n",
       "│                     │                   │            │ input_layer_54[\u001b[38;5;34m0\u001b[0m… │\n",
       "├─────────────────────┼───────────────────┼────────────┼───────────────────┤\n",
       "│ dense_12 (\u001b[38;5;33mDense\u001b[0m)    │ (\u001b[38;5;45mNone\u001b[0m, \u001b[38;5;34m512\u001b[0m)       │  \u001b[38;5;34m2,156,032\u001b[0m │ concatenate_6[\u001b[38;5;34m0\u001b[0m]… │\n",
       "├─────────────────────┼───────────────────┼────────────┼───────────────────┤\n",
       "│ dropout_6 (\u001b[38;5;33mDropout\u001b[0m) │ (\u001b[38;5;45mNone\u001b[0m, \u001b[38;5;34m512\u001b[0m)       │          \u001b[38;5;34m0\u001b[0m │ dense_12[\u001b[38;5;34m0\u001b[0m][\u001b[38;5;34m0\u001b[0m]    │\n",
       "├─────────────────────┼───────────────────┼────────────┼───────────────────┤\n",
       "│ dense_13 (\u001b[38;5;33mDense\u001b[0m)    │ (\u001b[38;5;45mNone\u001b[0m, \u001b[38;5;34m1\u001b[0m)         │        \u001b[38;5;34m513\u001b[0m │ dropout_6[\u001b[38;5;34m0\u001b[0m][\u001b[38;5;34m0\u001b[0m]   │\n",
       "└─────────────────────┴───────────────────┴────────────┴───────────────────┘\n"
      ]
     },
     "metadata": {},
     "output_type": "display_data"
    },
    {
     "data": {
      "text/html": [
       "<pre style=\"white-space:pre;overflow-x:auto;line-height:normal;font-family:Menlo,'DejaVu Sans Mono',consolas,'Courier New',monospace\"><span style=\"font-weight: bold\"> Total params: </span><span style=\"color: #00af00; text-decoration-color: #00af00\">25,744,257</span> (98.21 MB)\n",
       "</pre>\n"
      ],
      "text/plain": [
       "\u001b[1m Total params: \u001b[0m\u001b[38;5;34m25,744,257\u001b[0m (98.21 MB)\n"
      ]
     },
     "metadata": {},
     "output_type": "display_data"
    },
    {
     "data": {
      "text/html": [
       "<pre style=\"white-space:pre;overflow-x:auto;line-height:normal;font-family:Menlo,'DejaVu Sans Mono',consolas,'Courier New',monospace\"><span style=\"font-weight: bold\"> Trainable params: </span><span style=\"color: #00af00; text-decoration-color: #00af00\">2,156,545</span> (8.23 MB)\n",
       "</pre>\n"
      ],
      "text/plain": [
       "\u001b[1m Trainable params: \u001b[0m\u001b[38;5;34m2,156,545\u001b[0m (8.23 MB)\n"
      ]
     },
     "metadata": {},
     "output_type": "display_data"
    },
    {
     "data": {
      "text/html": [
       "<pre style=\"white-space:pre;overflow-x:auto;line-height:normal;font-family:Menlo,'DejaVu Sans Mono',consolas,'Courier New',monospace\"><span style=\"font-weight: bold\"> Non-trainable params: </span><span style=\"color: #00af00; text-decoration-color: #00af00\">23,587,712</span> (89.98 MB)\n",
       "</pre>\n"
      ],
      "text/plain": [
       "\u001b[1m Non-trainable params: \u001b[0m\u001b[38;5;34m23,587,712\u001b[0m (89.98 MB)\n"
      ]
     },
     "metadata": {},
     "output_type": "display_data"
    }
   ],
   "source": [
    "# Base model for feature extraction\n",
    "base_model = tf.keras.applications.ResNet50(weights='imagenet', include_top=False, input_shape=(224, 224, 3))\n",
    "base_model.trainable = False  # Freeze the base model\n",
    "\n",
    "# Model architecture\n",
    "def build_model():\n",
    "    # Inputs\n",
    "    input_image1 = layers.Input(shape=(224, 224, 3))\n",
    "    input_image2 = layers.Input(shape=(224, 224, 3))\n",
    "    input_category1 = layers.Input(shape=(len(data['type'].unique()),))\n",
    "    input_category2 = layers.Input(shape=(len(data['combi_type'].unique()),))\n",
    "    input_color1 = layers.Input(shape=(len(data['color'].unique()),))\n",
    "    input_color2 = layers.Input(shape=(len(data['combi_color'].unique()),))\n",
    "\n",
    "    # Image feature extraction\n",
    "    image_feature_extractor = models.Sequential([\n",
    "        base_model,\n",
    "        layers.GlobalAveragePooling2D(),\n",
    "    ])\n",
    "\n",
    "    image1_features = image_feature_extractor(input_image1)\n",
    "    image2_features = image_feature_extractor(input_image2)\n",
    "    \n",
    "    # Combine all features\n",
    "    combined_features = layers.concatenate([image1_features, image2_features, input_category1, input_category2, input_color1, input_color2])\n",
    "    \n",
    "    # Fully connected layers\n",
    "    x = layers.Dense(512, activation='relu')(combined_features)\n",
    "    x = layers.Dropout(0.5)(x)\n",
    "    output = layers.Dense(1, activation='sigmoid')(x)\n",
    "    \n",
    "    # Model\n",
    "    model = models.Model(inputs=[input_image1, input_image2, input_category1, input_category2, input_color1, input_color2], outputs=output)\n",
    "    \n",
    "    # Compile\n",
    "    model.compile(optimizer='adam', loss='binary_crossentropy', metrics=['accuracy'])\n",
    "    \n",
    "    return model\n",
    "\n",
    "model = build_model()\n",
    "model.summary()\n"
   ]
  },
  {
   "cell_type": "markdown",
   "metadata": {},
   "source": [
    "## 4- Training"
   ]
  },
  {
   "cell_type": "code",
   "execution_count": 439,
   "metadata": {},
   "outputs": [
    {
     "name": "stdout",
     "output_type": "stream",
     "text": [
      "Epoch 1/7\n",
      "\u001b[1m340/340\u001b[0m \u001b[32m━━━━━━━━━━━━━━━━━━━━\u001b[0m\u001b[37m\u001b[0m \u001b[1m904s\u001b[0m 3s/step - accuracy: 0.7285 - loss: 0.6120 - val_accuracy: 0.9485 - val_loss: 0.1573\n",
      "Epoch 2/7\n",
      "\u001b[1m340/340\u001b[0m \u001b[32m━━━━━━━━━━━━━━━━━━━━\u001b[0m\u001b[37m\u001b[0m \u001b[1m996s\u001b[0m 3s/step - accuracy: 0.9406 - loss: 0.1763 - val_accuracy: 0.9676 - val_loss: 0.1215\n",
      "Epoch 3/7\n",
      "\u001b[1m340/340\u001b[0m \u001b[32m━━━━━━━━━━━━━━━━━━━━\u001b[0m\u001b[37m\u001b[0m \u001b[1m1109s\u001b[0m 3s/step - accuracy: 0.9552 - loss: 0.1283 - val_accuracy: 0.9776 - val_loss: 0.0740\n",
      "Epoch 4/7\n",
      "\u001b[1m340/340\u001b[0m \u001b[32m━━━━━━━━━━━━━━━━━━━━\u001b[0m\u001b[37m\u001b[0m \u001b[1m1000s\u001b[0m 3s/step - accuracy: 0.9639 - loss: 0.1030 - val_accuracy: 0.9706 - val_loss: 0.0733\n",
      "Epoch 5/7\n",
      "\u001b[1m340/340\u001b[0m \u001b[32m━━━━━━━━━━━━━━━━━━━━\u001b[0m\u001b[37m\u001b[0m \u001b[1m2359s\u001b[0m 7s/step - accuracy: 0.9656 - loss: 0.0993 - val_accuracy: 0.9857 - val_loss: 0.0641\n",
      "Epoch 6/7\n",
      "\u001b[1m340/340\u001b[0m \u001b[32m━━━━━━━━━━━━━━━━━━━━\u001b[0m\u001b[37m\u001b[0m \u001b[1m942s\u001b[0m 3s/step - accuracy: 0.9717 - loss: 0.0866 - val_accuracy: 0.9742 - val_loss: 0.0858\n",
      "Epoch 7/7\n",
      "\u001b[1m340/340\u001b[0m \u001b[32m━━━━━━━━━━━━━━━━━━━━\u001b[0m\u001b[37m\u001b[0m \u001b[1m1064s\u001b[0m 3s/step - accuracy: 0.9688 - loss: 0.0871 - val_accuracy: 0.9871 - val_loss: 0.0527\n"
     ]
    }
   ],
   "source": [
    "history = model.fit(train_ds, validation_data=test_ds, epochs=7)"
   ]
  },
  {
   "cell_type": "code",
   "execution_count": 440,
   "metadata": {},
   "outputs": [
    {
     "name": "stdout",
     "output_type": "stream",
     "text": [
      "\u001b[1m85/85\u001b[0m \u001b[32m━━━━━━━━━━━━━━━━━━━━\u001b[0m\u001b[37m\u001b[0m \u001b[1m167s\u001b[0m 2s/step - accuracy: 0.9872 - loss: 0.0534\n"
     ]
    },
    {
     "data": {
      "text/plain": [
       "[0.05269061401486397, 0.9871228933334351]"
      ]
     },
     "execution_count": 440,
     "metadata": {},
     "output_type": "execute_result"
    }
   ],
   "source": [
    "model.evaluate(test_ds)\n"
   ]
  },
  {
   "cell_type": "markdown",
   "metadata": {},
   "source": [
    "### Save & Load Models"
   ]
  },
  {
   "cell_type": "code",
   "execution_count": 487,
   "metadata": {},
   "outputs": [],
   "source": [
    "model.save_weights('my_model.weights.h5')"
   ]
  },
  {
   "cell_type": "code",
   "execution_count": 488,
   "metadata": {},
   "outputs": [
    {
     "name": "stderr",
     "output_type": "stream",
     "text": [
      "/Users/bernaozer/anaconda3/lib/python3.11/site-packages/keras/src/saving/saving_lib.py:396: UserWarning: Skipping variable loading for optimizer 'adam', because it has 2 variables whereas the saved optimizer has 10 variables. \n",
      "  trackable.load_own_variables(weights_store.get(inner_path))\n"
     ]
    }
   ],
   "source": [
    "loaded_model = build_model()\n",
    "loaded_model.load_weights('my_model.weights.h5')"
   ]
  },
  {
   "cell_type": "markdown",
   "metadata": {},
   "source": [
    "## 5- Prediction"
   ]
  },
  {
   "cell_type": "code",
   "execution_count": 250,
   "metadata": {},
   "outputs": [],
   "source": [
    "test.to_csv('test.csv')"
   ]
  },
  {
   "cell_type": "code",
   "execution_count": 251,
   "metadata": {},
   "outputs": [
    {
     "name": "stderr",
     "output_type": "stream",
     "text": [
      "/var/folders/4v/r9p762h55mn0ttvynz3ppd440000gn/T/ipykernel_95438/1589361645.py:2: SettingWithCopyWarning: \n",
      "A value is trying to be set on a copy of a slice from a DataFrame\n",
      "\n",
      "See the caveats in the documentation: https://pandas.pydata.org/pandas-docs/stable/user_guide/indexing.html#returning-a-view-versus-a-copy\n",
      "  pred_subset.drop(columns='match',inplace=True)\n"
     ]
    }
   ],
   "source": [
    "pred_subset = test.iloc[:5] \n",
    "pred_subset.drop(columns='match',inplace=True)"
   ]
  },
  {
   "cell_type": "code",
   "execution_count": 252,
   "metadata": {},
   "outputs": [],
   "source": [
    "def process_row_for_prediction(row):\n",
    "    # Process images\n",
    "    image = preprocess_image(row['image_link'])\n",
    "    combi_image = preprocess_image(row['combi_image_link'])\n",
    "    \n",
    "    # Recalculate unique values or pass them as parameters if this is computationally expensive\n",
    "    type = tf.one_hot(row['type_indices'], depth=len(data['type'].unique()))  \n",
    "    combi_type = tf.one_hot(row['combi_type_indices'], depth=len(data['combi_type'].unique()))\n",
    "    color = tf.one_hot(row['color_indices'], depth=len(data['color'].unique()))\n",
    "    combi_color = tf.one_hot(row['combi_color_indices'], depth=len(data['combi_color'].unique()))\n",
    "    \n",
    "    # Combine all features\n",
    "    features = (image, combi_image, type, combi_type, color, combi_color)\n",
    "    #labels = row['match']\n",
    "    \n",
    "    return features,None"
   ]
  },
  {
   "cell_type": "code",
   "execution_count": 253,
   "metadata": {},
   "outputs": [],
   "source": [
    "def tf_dataset_for_prediction(df, batch_size=32):\n",
    "    ds = tf.data.Dataset.from_tensor_slices(dict(df))\n",
    "    ds = ds.map(process_row_for_prediction, num_parallel_calls=tf.data.AUTOTUNE)\n",
    "    ds = ds.batch(batch_size)\n",
    "    ds = ds.prefetch(tf.data.AUTOTUNE)\n",
    "    return ds"
   ]
  },
  {
   "cell_type": "code",
   "execution_count": 254,
   "metadata": {},
   "outputs": [],
   "source": [
    "predict_ds = tf_dataset_for_prediction(pred_subset)"
   ]
  },
  {
   "cell_type": "code",
   "execution_count": 490,
   "metadata": {},
   "outputs": [
    {
     "name": "stdout",
     "output_type": "stream",
     "text": [
      "\u001b[1m1/1\u001b[0m \u001b[32m━━━━━━━━━━━━━━━━━━━━\u001b[0m\u001b[37m\u001b[0m \u001b[1m2s\u001b[0m 2s/step\n"
     ]
    }
   ],
   "source": [
    "# Make predictions\n",
    "predictions = model.predict(predict_ds)\n",
    "\n",
    "# Convert predictions to a binary outcome based on a threshold\n",
    "predicted_matches = (predictions > 0.5).astype(int)\n",
    "\n",
    "# Attach these predictions to your DataFrame (Optional)\n",
    "pred_subset['predicted_match'] = predicted_matches.flatten()\n"
   ]
  },
  {
   "cell_type": "code",
   "execution_count": 491,
   "metadata": {},
   "outputs": [
    {
     "data": {
      "text/html": [
       "<div>\n",
       "<style scoped>\n",
       "    .dataframe tbody tr th:only-of-type {\n",
       "        vertical-align: middle;\n",
       "    }\n",
       "\n",
       "    .dataframe tbody tr th {\n",
       "        vertical-align: top;\n",
       "    }\n",
       "\n",
       "    .dataframe thead th {\n",
       "        text-align: right;\n",
       "    }\n",
       "</style>\n",
       "<table border=\"1\" class=\"dataframe\">\n",
       "  <thead>\n",
       "    <tr style=\"text-align: right;\">\n",
       "      <th></th>\n",
       "      <th>image_link</th>\n",
       "      <th>type</th>\n",
       "      <th>color</th>\n",
       "      <th>combi_image_link</th>\n",
       "      <th>combi_type</th>\n",
       "      <th>combi_color</th>\n",
       "      <th>type_indices</th>\n",
       "      <th>color_indices</th>\n",
       "      <th>combi_type_indices</th>\n",
       "      <th>combi_color_indices</th>\n",
       "      <th>predicted_match</th>\n",
       "    </tr>\n",
       "  </thead>\n",
       "  <tbody>\n",
       "    <tr>\n",
       "      <th>1061</th>\n",
       "      <td>A-Mango-images/A1061</td>\n",
       "      <td>Dresses</td>\n",
       "      <td>Burgundy</td>\n",
       "      <td>B-Mango-images/B1061</td>\n",
       "      <td>Shoes</td>\n",
       "      <td>White</td>\n",
       "      <td>3</td>\n",
       "      <td>18</td>\n",
       "      <td>4</td>\n",
       "      <td>9</td>\n",
       "      <td>1</td>\n",
       "    </tr>\n",
       "    <tr>\n",
       "      <th>5890</th>\n",
       "      <td>A-Zara-images/A2097</td>\n",
       "      <td>Tops</td>\n",
       "      <td>Grey</td>\n",
       "      <td>B-Zara-images/B2097</td>\n",
       "      <td>Trousers</td>\n",
       "      <td>Red</td>\n",
       "      <td>6</td>\n",
       "      <td>6</td>\n",
       "      <td>3</td>\n",
       "      <td>17</td>\n",
       "      <td>0</td>\n",
       "    </tr>\n",
       "    <tr>\n",
       "      <th>3562</th>\n",
       "      <td>A-Mango-images/A3562</td>\n",
       "      <td>Jeans</td>\n",
       "      <td>Charcoal</td>\n",
       "      <td>B-Mango-images/B3562</td>\n",
       "      <td>Jackets</td>\n",
       "      <td>Brown</td>\n",
       "      <td>18</td>\n",
       "      <td>21</td>\n",
       "      <td>12</td>\n",
       "      <td>1</td>\n",
       "      <td>1</td>\n",
       "    </tr>\n",
       "    <tr>\n",
       "      <th>4660</th>\n",
       "      <td>A-Zara-images/A867</td>\n",
       "      <td>Sweaters</td>\n",
       "      <td>Ecru</td>\n",
       "      <td>B-Zara-images/B867</td>\n",
       "      <td>Shorts</td>\n",
       "      <td>Black</td>\n",
       "      <td>5</td>\n",
       "      <td>0</td>\n",
       "      <td>10</td>\n",
       "      <td>6</td>\n",
       "      <td>0</td>\n",
       "    </tr>\n",
       "    <tr>\n",
       "      <th>11467</th>\n",
       "      <td>B-Zara-images/B881</td>\n",
       "      <td>Skirts</td>\n",
       "      <td>Red</td>\n",
       "      <td>A-Zara-images/A881</td>\n",
       "      <td>Blazers</td>\n",
       "      <td>Red</td>\n",
       "      <td>17</td>\n",
       "      <td>13</td>\n",
       "      <td>9</td>\n",
       "      <td>17</td>\n",
       "      <td>0</td>\n",
       "    </tr>\n",
       "  </tbody>\n",
       "</table>\n",
       "</div>"
      ],
      "text/plain": [
       "                 image_link      type     color      combi_image_link  \\\n",
       "1061   A-Mango-images/A1061   Dresses  Burgundy  B-Mango-images/B1061   \n",
       "5890    A-Zara-images/A2097      Tops      Grey   B-Zara-images/B2097   \n",
       "3562   A-Mango-images/A3562     Jeans  Charcoal  B-Mango-images/B3562   \n",
       "4660     A-Zara-images/A867  Sweaters      Ecru    B-Zara-images/B867   \n",
       "11467    B-Zara-images/B881    Skirts       Red    A-Zara-images/A881   \n",
       "\n",
       "      combi_type combi_color  type_indices  color_indices  combi_type_indices  \\\n",
       "1061       Shoes       White             3             18                   4   \n",
       "5890    Trousers         Red             6              6                   3   \n",
       "3562     Jackets       Brown            18             21                  12   \n",
       "4660      Shorts       Black             5              0                  10   \n",
       "11467    Blazers         Red            17             13                   9   \n",
       "\n",
       "       combi_color_indices  predicted_match  \n",
       "1061                     9                1  \n",
       "5890                    17                0  \n",
       "3562                     1                1  \n",
       "4660                     6                0  \n",
       "11467                   17                0  "
      ]
     },
     "execution_count": 491,
     "metadata": {},
     "output_type": "execute_result"
    }
   ],
   "source": [
    "pred_subset"
   ]
  },
  {
   "cell_type": "markdown",
   "metadata": {},
   "source": [
    "## 6- Wardrobe"
   ]
  },
  {
   "cell_type": "code",
   "execution_count": 358,
   "metadata": {},
   "outputs": [],
   "source": [
    "bottom = ['Trousers','Skirts','Jeans','Joggers','Shorts','Jumpsuits','Dresses and jumpsuits','Dresses']\n",
    "top = ['Tops','Shirts','Sweaters','Dresses','Tshirts','Hoodie','Cardigans','Sweaters and cardigans','Blouses and shirts','Blouses','Sweatshirts','Dresses and jumpsuits','Jumpsuits']\n",
    "jackets = ['Jackets', 'Gilets','Trench coats', 'Quilted coats/Padded', 'Blazers', 'Suit jackets',\n",
    "       'Coats']"
   ]
  },
  {
   "cell_type": "code",
   "execution_count": 543,
   "metadata": {},
   "outputs": [],
   "source": [
    "wardrobe =  test.iloc[:400][['image_link','type','color']] \n",
    "#wardrobe_combi = test.iloc[20:60][['combi_image_link','combi_type','combi_color']] "
   ]
  },
  {
   "cell_type": "code",
   "execution_count": 544,
   "metadata": {},
   "outputs": [],
   "source": [
    "wardrobe\n",
    "wardrobe.to_csv('wardrobe.csv',index=False)"
   ]
  },
  {
   "cell_type": "code",
   "execution_count": 381,
   "metadata": {},
   "outputs": [],
   "source": [
    "def make_combins(selected_row, other_rows):\n",
    "    combin = pd.DataFrame()\n",
    "    for idx, row in other_rows.iterrows():  # Iterate over rows of the Serie \n",
    "        if row['type'] == selected_row['type']:\n",
    "            continue\n",
    "        bottom = ['Trousers','Skirts','Jeans','Joggers','Shorts','Jumpsuits','Dresses and jumpsuits']\n",
    "        top = ['Tops','Shirts','Sweaters','Dresses','Tshirts','Hoodie','Cardigans','Sweaters and cardigans','Blouses and shirts','Blouses','Sweatshirts','Dresses and jumpsuits','Jumpsuits']\n",
    "        if row['type'] in bottom and selected_row['type'] in bottom:\n",
    "            continue\n",
    "        if row['type'] in top and selected_row['type'] in top:\n",
    "            continue\n",
    "        combination = {\n",
    "            'image_link': selected_row['image_link'],\n",
    "            'type': selected_row['type'],\n",
    "            'color': selected_row['color'],\n",
    "            'combi_image_link': row['image_link'],\n",
    "            'combi_type':  row['type'],\n",
    "            'combi_color': row['color']\n",
    "        }  \n",
    "        combin = pd.concat([combin, pd.DataFrame([combination])], ignore_index=True)\n",
    "    return combin"
   ]
  },
  {
   "cell_type": "code",
   "execution_count": 448,
   "metadata": {},
   "outputs": [],
   "source": [
    "def find_pairs(selected_row, other_rows):\n",
    "    combins = make_combins(selected_row, other_rows)\n",
    "    combins['type_indices'] = pd.factorize(combins['type'])[0]\n",
    "    combins['color_indices'] = pd.factorize(combins['color'])[0]\n",
    "    combins['combi_type_indices'] = pd.factorize(combins['combi_type'])[0]\n",
    "    combins['combi_color_indices'] = pd.factorize(combins['combi_color'])[0]\n",
    "    predict_ds = tf_dataset_for_prediction(combins)\n",
    "    predictions = model.predict(predict_ds)\n",
    "\n",
    "    predicted_matches = (predictions > 0.90).astype(int)\n",
    "    combins['predicted_match'] = predictions\n",
    "\n",
    "    matches = combins[predicted_matches.flatten() == 1]\n",
    "    return matches"
   ]
  },
  {
   "cell_type": "code",
   "execution_count": 449,
   "metadata": {},
   "outputs": [
    {
     "name": "stdout",
     "output_type": "stream",
     "text": [
      "\u001b[1m1/1\u001b[0m \u001b[32m━━━━━━━━━━━━━━━━━━━━\u001b[0m\u001b[37m\u001b[0m \u001b[1m1s\u001b[0m 1s/step\n"
     ]
    }
   ],
   "source": [
    "matches = find_pairs(wardrobe.iloc[7], wardrobe)"
   ]
  },
  {
   "cell_type": "code",
   "execution_count": 450,
   "metadata": {},
   "outputs": [
    {
     "data": {
      "text/html": [
       "<div>\n",
       "<style scoped>\n",
       "    .dataframe tbody tr th:only-of-type {\n",
       "        vertical-align: middle;\n",
       "    }\n",
       "\n",
       "    .dataframe tbody tr th {\n",
       "        vertical-align: top;\n",
       "    }\n",
       "\n",
       "    .dataframe thead th {\n",
       "        text-align: right;\n",
       "    }\n",
       "</style>\n",
       "<table border=\"1\" class=\"dataframe\">\n",
       "  <thead>\n",
       "    <tr style=\"text-align: right;\">\n",
       "      <th></th>\n",
       "      <th>image_link</th>\n",
       "      <th>type</th>\n",
       "      <th>combi_image_link</th>\n",
       "      <th>combi_type</th>\n",
       "      <th>predicted_match</th>\n",
       "    </tr>\n",
       "  </thead>\n",
       "  <tbody>\n",
       "    <tr>\n",
       "      <th>1</th>\n",
       "      <td>A-Mango-images/A2308</td>\n",
       "      <td>Gilets</td>\n",
       "      <td>B-Zara-images/B1965</td>\n",
       "      <td>Skirts</td>\n",
       "      <td>0.918652</td>\n",
       "    </tr>\n",
       "    <tr>\n",
       "      <th>2</th>\n",
       "      <td>A-Mango-images/A2308</td>\n",
       "      <td>Gilets</td>\n",
       "      <td>A-Mango-images/A99</td>\n",
       "      <td>Shirts</td>\n",
       "      <td>0.998644</td>\n",
       "    </tr>\n",
       "    <tr>\n",
       "      <th>4</th>\n",
       "      <td>A-Mango-images/A2308</td>\n",
       "      <td>Gilets</td>\n",
       "      <td>B-Mango-images/B1252</td>\n",
       "      <td>Bags</td>\n",
       "      <td>0.988635</td>\n",
       "    </tr>\n",
       "    <tr>\n",
       "      <th>5</th>\n",
       "      <td>A-Mango-images/A2308</td>\n",
       "      <td>Gilets</td>\n",
       "      <td>B-Zara-images/B2595</td>\n",
       "      <td>Skirts</td>\n",
       "      <td>0.998094</td>\n",
       "    </tr>\n",
       "    <tr>\n",
       "      <th>6</th>\n",
       "      <td>A-Mango-images/A2308</td>\n",
       "      <td>Gilets</td>\n",
       "      <td>B-Mango-images/B2004</td>\n",
       "      <td>Shoes</td>\n",
       "      <td>0.976880</td>\n",
       "    </tr>\n",
       "    <tr>\n",
       "      <th>7</th>\n",
       "      <td>A-Mango-images/A2308</td>\n",
       "      <td>Gilets</td>\n",
       "      <td>A-Mango-images/A353</td>\n",
       "      <td>Shirts</td>\n",
       "      <td>0.996054</td>\n",
       "    </tr>\n",
       "    <tr>\n",
       "      <th>8</th>\n",
       "      <td>A-Mango-images/A2308</td>\n",
       "      <td>Gilets</td>\n",
       "      <td>B-Zara-images/B1285</td>\n",
       "      <td>Skirts</td>\n",
       "      <td>0.998206</td>\n",
       "    </tr>\n",
       "    <tr>\n",
       "      <th>9</th>\n",
       "      <td>A-Mango-images/A2308</td>\n",
       "      <td>Gilets</td>\n",
       "      <td>B-Mango-images/B3065</td>\n",
       "      <td>Shoes</td>\n",
       "      <td>0.985019</td>\n",
       "    </tr>\n",
       "    <tr>\n",
       "      <th>11</th>\n",
       "      <td>A-Mango-images/A2308</td>\n",
       "      <td>Gilets</td>\n",
       "      <td>A-Mango-images/A2483</td>\n",
       "      <td>Suit jackets</td>\n",
       "      <td>0.990936</td>\n",
       "    </tr>\n",
       "    <tr>\n",
       "      <th>12</th>\n",
       "      <td>A-Mango-images/A2308</td>\n",
       "      <td>Gilets</td>\n",
       "      <td>A-Mango-images/A2144</td>\n",
       "      <td>Cardigans</td>\n",
       "      <td>0.993714</td>\n",
       "    </tr>\n",
       "    <tr>\n",
       "      <th>13</th>\n",
       "      <td>A-Mango-images/A2308</td>\n",
       "      <td>Gilets</td>\n",
       "      <td>A-Zara-images/A433</td>\n",
       "      <td>Shirts</td>\n",
       "      <td>0.927558</td>\n",
       "    </tr>\n",
       "    <tr>\n",
       "      <th>15</th>\n",
       "      <td>A-Mango-images/A2308</td>\n",
       "      <td>Gilets</td>\n",
       "      <td>B-Zara-images/B1869</td>\n",
       "      <td>Skirts</td>\n",
       "      <td>0.997978</td>\n",
       "    </tr>\n",
       "    <tr>\n",
       "      <th>16</th>\n",
       "      <td>A-Mango-images/A2308</td>\n",
       "      <td>Gilets</td>\n",
       "      <td>B-Mango-images/B2756</td>\n",
       "      <td>Blazers</td>\n",
       "      <td>0.962872</td>\n",
       "    </tr>\n",
       "  </tbody>\n",
       "</table>\n",
       "</div>"
      ],
      "text/plain": [
       "              image_link    type      combi_image_link    combi_type  \\\n",
       "1   A-Mango-images/A2308  Gilets   B-Zara-images/B1965        Skirts   \n",
       "2   A-Mango-images/A2308  Gilets    A-Mango-images/A99        Shirts   \n",
       "4   A-Mango-images/A2308  Gilets  B-Mango-images/B1252          Bags   \n",
       "5   A-Mango-images/A2308  Gilets   B-Zara-images/B2595        Skirts   \n",
       "6   A-Mango-images/A2308  Gilets  B-Mango-images/B2004         Shoes   \n",
       "7   A-Mango-images/A2308  Gilets   A-Mango-images/A353        Shirts   \n",
       "8   A-Mango-images/A2308  Gilets   B-Zara-images/B1285        Skirts   \n",
       "9   A-Mango-images/A2308  Gilets  B-Mango-images/B3065         Shoes   \n",
       "11  A-Mango-images/A2308  Gilets  A-Mango-images/A2483  Suit jackets   \n",
       "12  A-Mango-images/A2308  Gilets  A-Mango-images/A2144     Cardigans   \n",
       "13  A-Mango-images/A2308  Gilets    A-Zara-images/A433        Shirts   \n",
       "15  A-Mango-images/A2308  Gilets   B-Zara-images/B1869        Skirts   \n",
       "16  A-Mango-images/A2308  Gilets  B-Mango-images/B2756       Blazers   \n",
       "\n",
       "    predicted_match  \n",
       "1          0.918652  \n",
       "2          0.998644  \n",
       "4          0.988635  \n",
       "5          0.998094  \n",
       "6          0.976880  \n",
       "7          0.996054  \n",
       "8          0.998206  \n",
       "9          0.985019  \n",
       "11         0.990936  \n",
       "12         0.993714  \n",
       "13         0.927558  \n",
       "15         0.997978  \n",
       "16         0.962872  "
      ]
     },
     "execution_count": 450,
     "metadata": {},
     "output_type": "execute_result"
    }
   ],
   "source": [
    "matches[['image_link','type','combi_image_link','combi_type','predicted_match']]"
   ]
  },
  {
   "cell_type": "code",
   "execution_count": 308,
   "metadata": {},
   "outputs": [],
   "source": [
    "from IPython.display import display, Image, HTML\n",
    "\n",
    "def show_matches(matches):\n",
    "    for index, row in matches.iterrows():\n",
    "        display(pd.DataFrame([{\n",
    "            'Image Link': row['image_link'],\n",
    "            'Type': row['type'],\n",
    "            'Combi Image Link': row['combi_image_link'],\n",
    "            'Combi Type': row['combi_type'],\n",
    "            'Predicted Match': row['predicted_match']\n",
    "        }]))\n",
    "        display(HTML(f\"<img src='{row['image_link'] + '.jpg'}' style='width:200px; display:inline-block;'><img src='{row['combi_image_link'] + '.jpg'}' style='width:200px; display:inline-block;'>\"))\n",
    "        print(\"\\n\")\n"
   ]
  },
  {
   "cell_type": "code",
   "execution_count": null,
   "metadata": {},
   "outputs": [],
   "source": [
    "show_matches(matches[['image_link', 'type', 'combi_image_link', 'combi_type', 'predicted_match']])"
   ]
  },
  {
   "cell_type": "code",
   "execution_count": 146,
   "metadata": {},
   "outputs": [],
   "source": [
    "def make_all_combins(item_df):\n",
    "    all_combins = pd.DataFrame()\n",
    "    for index, selected_row in item_df.iterrows():\n",
    "        other_rows = item_df.drop(index)  # Exclude the selected row from other_rows\n",
    "        combin = make_combins(selected_row, other_rows)\n",
    "        all_combins = all_combins.append(combin, ignore_index=True)\n",
    "    return all_combins"
   ]
  },
  {
   "cell_type": "code",
   "execution_count": 541,
   "metadata": {},
   "outputs": [],
   "source": [
    "save_list = pd.DataFrame({'combin_id':[]})"
   ]
  },
  {
   "cell_type": "code",
   "execution_count": 542,
   "metadata": {},
   "outputs": [],
   "source": [
    "save_list.to_csv('my library/save_list.csv',index=False)"
   ]
  }
 ],
 "metadata": {
  "kernelspec": {
   "display_name": "base",
   "language": "python",
   "name": "python3"
  },
  "language_info": {
   "codemirror_mode": {
    "name": "ipython",
    "version": 3
   },
   "file_extension": ".py",
   "mimetype": "text/x-python",
   "name": "python",
   "nbconvert_exporter": "python",
   "pygments_lexer": "ipython3",
   "version": "3.11.4"
  },
  "orig_nbformat": 4
 },
 "nbformat": 4,
 "nbformat_minor": 2
}
