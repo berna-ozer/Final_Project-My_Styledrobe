{
 "cells": [
  {
   "cell_type": "code",
   "execution_count": 530,
   "metadata": {},
   "outputs": [],
   "source": [
    "import pandas as pd\n",
    "import requests\n",
    "from bs4 import BeautifulSoup\n",
    "\n",
    "import time\n",
    "from selenium import webdriver\n",
    "from selenium.webdriver.chrome.service import Service\n",
    "from webdriver_manager.chrome import ChromeDriverManager\n",
    "\n",
    "import random\n",
    "from PIL import Image\n",
    "from io import BytesIO  \n"
   ]
  },
  {
   "cell_type": "markdown",
   "metadata": {},
   "source": [
    "## 1- Data Scraping "
   ]
  },
  {
   "cell_type": "code",
   "execution_count": 74,
   "metadata": {},
   "outputs": [],
   "source": [
    "def soup_with_selenium(url, scroll=False):\n",
    "    # Start a new instance of Chrome WebDriver\n",
    "    driver = webdriver.Chrome(service=Service(ChromeDriverManager().install()))\n",
    "    \n",
    "    # Navigate to the URL\n",
    "    driver.get(url)\n",
    "\n",
    "    # If scroll is True, scroll down to trigger loading of additional content\n",
    "    # Scroll to the bottom of the page\n",
    "    if scroll:\n",
    "         # Get the initial page height\n",
    "        last_height = driver.execute_script(\"return document.body.scrollHeight\")\n",
    "\n",
    "        while True:\n",
    "            # Scroll down to the bottom of the page\n",
    "            driver.execute_script(f\"window.scrollTo(0, document.body.scrollHeight);\")\n",
    "\n",
    "            # Wait for the page to load after scrolling\n",
    "            time.sleep(30.0)  # Adjust the waiting time as needed\n",
    "\n",
    "            # Calculate the new page height after scrolling\n",
    "            new_height = driver.execute_script(\"return document.body.scrollHeight\")\n",
    "\n",
    "            # If the page height has not changed after scrolling, break the loop\n",
    "            if new_height == last_height:\n",
    "                break\n",
    "\n",
    "            # Update the last height\n",
    "            last_height = new_height\n",
    "\n",
    "    time.sleep(5.0)\n",
    "\n",
    "    # Get the page source after the page has fully loaded\n",
    "    page_source = driver.page_source\n",
    "    \n",
    "    # Close the WebDriver\n",
    "    driver.quit()\n",
    "\n",
    "    # Parse the page source with BeautifulSoup\n",
    "    soup = BeautifulSoup(page_source, 'html.parser')\n",
    "\n",
    "    return soup"
   ]
  },
  {
   "cell_type": "code",
   "execution_count": 75,
   "metadata": {},
   "outputs": [],
   "source": [
    "def fetch_product_and_combi(url):\n",
    "    # Call soup_with_selenium with scroll=True to ensure all content is loaded\n",
    "    soup = soup_with_selenium(url, scroll=True)\n",
    "\n",
    "    product_box = soup.find('div', attrs={'class': 'layout-content layout-catalog-content--full'}).find('div', attrs={'class': 'product-groups'}).find_all('li')\n",
    "\n",
    "    data = []\n",
    "\n",
    "    for product in product_box:\n",
    "        image_box = product.find_all('img')\n",
    "        if len(image_box) < 2:\n",
    "            pass\n",
    "        else:\n",
    "            image_link = image_box[-2].get('src')\n",
    "            type_color = image_box[-2].get('alt')\n",
    "\n",
    "            combi_image_link = image_box[-1].get('src')\n",
    "            combi_type_color = image_box[-1].get('alt')\n",
    "\n",
    "            data.append({'image_link': image_link,\n",
    "                         'type_color' : type_color,                    \n",
    "                         'combi_image_link': combi_image_link,\n",
    "                         'combi_type_color': combi_type_color})\n",
    "\n",
    "    df = pd.DataFrame(data)\n",
    "\n",
    "    return df\n"
   ]
  },
  {
   "cell_type": "code",
   "execution_count": 22,
   "metadata": {},
   "outputs": [],
   "source": [
    "pd.set_option('display.max_colwidth', None)"
   ]
  },
  {
   "cell_type": "code",
   "execution_count": 76,
   "metadata": {},
   "outputs": [],
   "source": [
    "url = 'https://www.zara.com/nl/en/woman-co-ords-l1061.html?v1=2353302'\n",
    "data = fetch_product_and_combi(url)\n"
   ]
  },
  {
   "cell_type": "code",
   "execution_count": 84,
   "metadata": {},
   "outputs": [],
   "source": [
    "data.to_csv('Zara data/zara_data.csv')"
   ]
  },
  {
   "cell_type": "markdown",
   "metadata": {},
   "source": [
    "## 2- Data cleaning"
   ]
  },
  {
   "cell_type": "code",
   "execution_count": 434,
   "metadata": {},
   "outputs": [],
   "source": [
    "zara_data = pd.read_csv('Zara data/zara_data.csv')"
   ]
  },
  {
   "cell_type": "code",
   "execution_count": 435,
   "metadata": {},
   "outputs": [
    {
     "data": {
      "text/html": [
       "<div>\n",
       "<style scoped>\n",
       "    .dataframe tbody tr th:only-of-type {\n",
       "        vertical-align: middle;\n",
       "    }\n",
       "\n",
       "    .dataframe tbody tr th {\n",
       "        vertical-align: top;\n",
       "    }\n",
       "\n",
       "    .dataframe thead th {\n",
       "        text-align: right;\n",
       "    }\n",
       "</style>\n",
       "<table border=\"1\" class=\"dataframe\">\n",
       "  <thead>\n",
       "    <tr style=\"text-align: right;\">\n",
       "      <th></th>\n",
       "      <th>Unnamed: 0</th>\n",
       "      <th>image_link</th>\n",
       "      <th>type_color</th>\n",
       "      <th>combi_image_link</th>\n",
       "      <th>combi_type_color</th>\n",
       "    </tr>\n",
       "  </thead>\n",
       "  <tbody>\n",
       "    <tr>\n",
       "      <th>0</th>\n",
       "      <td>0</td>\n",
       "      <td>https://static.zara.net/assets/public/a2ec/f631/60974c5ea7b9/7c64b92ad2b0/04786046515-e1/04786046515-e1.jpg?ts=1709907074921&amp;w=400</td>\n",
       "      <td>ZW JACQUARD OVERSIZE SHIRT - Olive green by Zara</td>\n",
       "      <td>https://static.zara.net/assets/public/6e2f/19f4/78ae49238427/60a14ac7fa35/04786060515-e1/04786060515-e1.jpg?ts=1709907072415&amp;w=400</td>\n",
       "      <td>ZW COLLECTION JACQUARD TROUSERS - Olive green by Zara</td>\n",
       "    </tr>\n",
       "    <tr>\n",
       "      <th>1</th>\n",
       "      <td>1</td>\n",
       "      <td>https://static.zara.net/assets/public/6fb2/5120/918e4cb3845c/5f0bdf866a67/02902066400-e1/02902066400-e1.jpg?ts=1709907073646&amp;w=400</td>\n",
       "      <td>ZW COLLECTION PRINTED SHIRT - Blue by Zara</td>\n",
       "      <td>https://static.zara.net/assets/public/b7a5/cec3/0ea446bfb2ae/a57112fdb027/02701066400-e1/02701066400-e1.jpg?ts=1709907073049&amp;w=400</td>\n",
       "      <td>ZW COLLECTION PRINTED PYJAMA-STYLE TROUSERS - Blue by Zara</td>\n",
       "    </tr>\n",
       "    <tr>\n",
       "      <th>2</th>\n",
       "      <td>2</td>\n",
       "      <td>https://static.zara.net/assets/public/dcdc/5a19/ca9945d68bf5/e4a441057fd7/02328125800-e1/02328125800-e1.jpg?ts=1709736490024&amp;w=600</td>\n",
       "      <td>ZW COLLECTION POLKA DOT PRINT SHIRT - Black by Zara</td>\n",
       "      <td>https://static.zara.net/assets/public/0720/4bf1/01a443d6a012/48447187386f/02942125800-e1/02942125800-e1.jpg?ts=1709736484873&amp;w=600</td>\n",
       "      <td>ZW COLLECTION HIGH-WAIST POLKA DOT SHORTS - Black by Zara</td>\n",
       "    </tr>\n",
       "    <tr>\n",
       "      <th>3</th>\n",
       "      <td>3</td>\n",
       "      <td>https://static.zara.net/assets/public/51e4/7936/50504c12b185/eeba48ec818d/04437048400-e1/04437048400-e1.jpg?ts=1709736491463&amp;w=600</td>\n",
       "      <td>ZW COLLECTION LONG SHIRT - Blue by Zara</td>\n",
       "      <td>https://static.zara.net/assets/public/47b3/8f3a/26924f498860/49ce9d4b9542/04437050400-e1/04437050400-e1.jpg?ts=1709736488715&amp;w=600</td>\n",
       "      <td>ZW COLLECTION STRAIGHT-FIT TROUSERS - Blue by Zara</td>\n",
       "    </tr>\n",
       "    <tr>\n",
       "      <th>4</th>\n",
       "      <td>4</td>\n",
       "      <td>https://static.zara.net/assets/public/c33d/90d4/c9094f628b1f/e7a2d7aa68b3/02183044051-e1/02183044051-e1.jpg?ts=1709736496249&amp;w=600</td>\n",
       "      <td>ZW COLLECTION ANIMAL PRINT SHIRT - Leopard by Zara</td>\n",
       "      <td>https://static.zara.net/assets/public/9dfa/eeba/0d664b459b89/8c639521d238/02183045051-e1/02183045051-e1.jpg?ts=1709736494141&amp;w=600</td>\n",
       "      <td>ZW COLLECTION ANIMAL PRINT TROUSERS - Leopard by Zara</td>\n",
       "    </tr>\n",
       "  </tbody>\n",
       "</table>\n",
       "</div>"
      ],
      "text/plain": [
       "   Unnamed: 0  \\\n",
       "0           0   \n",
       "1           1   \n",
       "2           2   \n",
       "3           3   \n",
       "4           4   \n",
       "\n",
       "                                                                                                                           image_link  \\\n",
       "0  https://static.zara.net/assets/public/a2ec/f631/60974c5ea7b9/7c64b92ad2b0/04786046515-e1/04786046515-e1.jpg?ts=1709907074921&w=400   \n",
       "1  https://static.zara.net/assets/public/6fb2/5120/918e4cb3845c/5f0bdf866a67/02902066400-e1/02902066400-e1.jpg?ts=1709907073646&w=400   \n",
       "2  https://static.zara.net/assets/public/dcdc/5a19/ca9945d68bf5/e4a441057fd7/02328125800-e1/02328125800-e1.jpg?ts=1709736490024&w=600   \n",
       "3  https://static.zara.net/assets/public/51e4/7936/50504c12b185/eeba48ec818d/04437048400-e1/04437048400-e1.jpg?ts=1709736491463&w=600   \n",
       "4  https://static.zara.net/assets/public/c33d/90d4/c9094f628b1f/e7a2d7aa68b3/02183044051-e1/02183044051-e1.jpg?ts=1709736496249&w=600   \n",
       "\n",
       "                                            type_color  \\\n",
       "0     ZW JACQUARD OVERSIZE SHIRT - Olive green by Zara   \n",
       "1           ZW COLLECTION PRINTED SHIRT - Blue by Zara   \n",
       "2  ZW COLLECTION POLKA DOT PRINT SHIRT - Black by Zara   \n",
       "3              ZW COLLECTION LONG SHIRT - Blue by Zara   \n",
       "4   ZW COLLECTION ANIMAL PRINT SHIRT - Leopard by Zara   \n",
       "\n",
       "                                                                                                                     combi_image_link  \\\n",
       "0  https://static.zara.net/assets/public/6e2f/19f4/78ae49238427/60a14ac7fa35/04786060515-e1/04786060515-e1.jpg?ts=1709907072415&w=400   \n",
       "1  https://static.zara.net/assets/public/b7a5/cec3/0ea446bfb2ae/a57112fdb027/02701066400-e1/02701066400-e1.jpg?ts=1709907073049&w=400   \n",
       "2  https://static.zara.net/assets/public/0720/4bf1/01a443d6a012/48447187386f/02942125800-e1/02942125800-e1.jpg?ts=1709736484873&w=600   \n",
       "3  https://static.zara.net/assets/public/47b3/8f3a/26924f498860/49ce9d4b9542/04437050400-e1/04437050400-e1.jpg?ts=1709736488715&w=600   \n",
       "4  https://static.zara.net/assets/public/9dfa/eeba/0d664b459b89/8c639521d238/02183045051-e1/02183045051-e1.jpg?ts=1709736494141&w=600   \n",
       "\n",
       "                                             combi_type_color  \n",
       "0       ZW COLLECTION JACQUARD TROUSERS - Olive green by Zara  \n",
       "1  ZW COLLECTION PRINTED PYJAMA-STYLE TROUSERS - Blue by Zara  \n",
       "2   ZW COLLECTION HIGH-WAIST POLKA DOT SHORTS - Black by Zara  \n",
       "3          ZW COLLECTION STRAIGHT-FIT TROUSERS - Blue by Zara  \n",
       "4       ZW COLLECTION ANIMAL PRINT TROUSERS - Leopard by Zara  "
      ]
     },
     "execution_count": 435,
     "metadata": {},
     "output_type": "execute_result"
    }
   ],
   "source": [
    "zara_data.head()"
   ]
  },
  {
   "cell_type": "code",
   "execution_count": 436,
   "metadata": {},
   "outputs": [],
   "source": [
    "zara_data.drop(columns='Unnamed: 0', inplace=True)"
   ]
  },
  {
   "cell_type": "markdown",
   "metadata": {},
   "source": [
    "column['type'] cleaning"
   ]
  },
  {
   "cell_type": "code",
   "execution_count": 437,
   "metadata": {},
   "outputs": [],
   "source": [
    "zara_data['type']=zara_data['type_color']\n",
    "zara_data['color']=zara_data['type_color']"
   ]
  },
  {
   "cell_type": "code",
   "execution_count": 438,
   "metadata": {},
   "outputs": [],
   "source": [
    "def find_type(zara_data, types):\n",
    "    for type_ in types:\n",
    "        zara_data.loc[zara_data['type'].str.contains(type_, case=False), 'type'] = type_\n",
    "\n",
    "types = ['SKIRT', 'CARDIGAN', 'SWEATER', 'TOP', 'BODYSUIT', 'SHIRT',\n",
    "         'T-SHIRT', 'JEAN', 'TROUSER', 'SHOE', 'KNITWEAR', 'SWEATSHIRT',\n",
    "         'TRENCH', 'COAT', 'WAISTCOAT', 'SHORT', 'SKORT', 'BAG', 'BEACHWEAR', 'BLAZER', 'HOODIE','JACKET', 'BLOUSE']\n",
    "\n",
    "find_type(zara_data, types)"
   ]
  },
  {
   "cell_type": "code",
   "execution_count": 501,
   "metadata": {},
   "outputs": [
    {
     "data": {
      "text/plain": [
       "Shirts       51\n",
       "Tops         46\n",
       "Sweaters     21\n",
       "Hoodie       14\n",
       "Blazers      12\n",
       "Coats        11\n",
       "Jackets      10\n",
       "Skirts        5\n",
       "Trousers      3\n",
       "Cardigans     3\n",
       "Blouses       2\n",
       "Shorts        1\n",
       "Name: type, dtype: int64"
      ]
     },
     "execution_count": 501,
     "metadata": {},
     "output_type": "execute_result"
    }
   ],
   "source": [
    "zara_data['type'].value_counts()"
   ]
  },
  {
   "cell_type": "code",
   "execution_count": 443,
   "metadata": {},
   "outputs": [],
   "source": [
    "zara_data['type'] = zara_data['type'].map({'TROUSER':'Trousers', 'SKIRT':'Skirts', 'JOGGERS': 'Joggers',\n",
    "                                                 'LEGGINGS': 'Trousers', 'SKORT':'Shorts', 'SHORT':'Shorts', \n",
    "                                                 'TOP':'Tops', 'SHIRT':'Shirts', 'COAT':'Coats',\n",
    "                                                 'JEAN':'Jeans', 'HOODIE':'Hoodie','SWEATER':'Sweaters',\n",
    "                                                 'BLAZER':'Blazers','JACKET':'Jackets','BODYSUIT':'Tops',\n",
    "                                                 'CARDIGAN':'Cardigans','BLOUSE':'Blouses'})\n"
   ]
  },
  {
   "cell_type": "code",
   "execution_count": 440,
   "metadata": {},
   "outputs": [],
   "source": [
    "zara_data.drop(zara_data[zara_data['type'] == 'LOOK - 600 by Zara'].index, inplace=True)\n",
    "zara_data.drop(zara_data[zara_data['type'] == 'LOOK - 180 by Zara'].index, inplace=True)\n",
    "zara_data.drop(zara_data[zara_data['type'] == 'WOOL BRA WITH LACE TRIM - Grey marl by Zara'].index, inplace=True)"
   ]
  },
  {
   "cell_type": "code",
   "execution_count": 441,
   "metadata": {},
   "outputs": [],
   "source": [
    "zara_data['type'].replace({'CONTRAST SATIN BUSTIER - Black by Zara': 'TOP'}, inplace=True)"
   ]
  },
  {
   "cell_type": "markdown",
   "metadata": {},
   "source": [
    "column['color'] cleaning"
   ]
  },
  {
   "cell_type": "code",
   "execution_count": 445,
   "metadata": {},
   "outputs": [],
   "source": [
    "def combine_colors(zara_data, colors_to_combine):\n",
    "    for color in colors_to_combine:\n",
    "        zara_data.loc[zara_data['color'].str.contains(color, case=False), 'color'] = color\n",
    "        \n",
    "colors_to_combine = ['Blue', 'Red', 'Green', 'Yellow', 'White', 'Grey', 'Brown', 'Orange', 'Pink', 'Black', 'Purple','Navy', 'Ecru', 'Silver',\n",
    "                     'Khaki', 'Golden', 'camel', 'Sand']\n",
    "combine_colors(zara_data, colors_to_combine)"
   ]
  },
  {
   "cell_type": "code",
   "execution_count": 500,
   "metadata": {},
   "outputs": [
    {
     "data": {
      "text/plain": [
       "Black     37\n",
       "Grey      33\n",
       "Red       22\n",
       "Ecru      21\n",
       "Blue      16\n",
       "White     14\n",
       "Brown     11\n",
       "Green      9\n",
       "Pink       4\n",
       "Khaki      3\n",
       "Silver     3\n",
       "Sand       3\n",
       "Gold       1\n",
       "Purple     1\n",
       "Beige      1\n",
       "Name: color, dtype: int64"
      ]
     },
     "execution_count": 500,
     "metadata": {},
     "output_type": "execute_result"
    }
   ],
   "source": [
    "zara_data['color'].value_counts()"
   ]
  },
  {
   "cell_type": "code",
   "execution_count": 447,
   "metadata": {},
   "outputs": [],
   "source": [
    "def process_color(color):\n",
    "    parts = color.split('-')\n",
    "    if len(parts) > 1 and parts[1].strip() not in colors_to_combine:\n",
    "        return parts[1].strip()\n",
    "    else:\n",
    "        return color\n",
    "\n",
    "zara_data['color'] = zara_data['color'].apply(process_color)\n"
   ]
  },
  {
   "cell_type": "code",
   "execution_count": 448,
   "metadata": {},
   "outputs": [],
   "source": [
    "zara_data[zara_data['color']=='Ice by Zara']['image_link']\n",
    "zara_data['color'].replace({'Ice by Zara': 'Ecru'}, inplace=True)"
   ]
  },
  {
   "cell_type": "code",
   "execution_count": 449,
   "metadata": {},
   "outputs": [],
   "source": [
    "zara_data[zara_data['color']=='Mink by Zara']['image_link']\n",
    "zara_data.at[83, 'color'] = 'Ecru'\n",
    "zara_data.at[127, 'color'] = 'Ecru'\n",
    "zara_data.at[182, 'color'] = 'Brown'"
   ]
  },
  {
   "cell_type": "code",
   "execution_count": 451,
   "metadata": {},
   "outputs": [],
   "source": [
    "zara_data[zara_data['color']=='DYE EFFECT']['image_link']\n",
    "zara_data['color'].replace({'DYE EFFECT': 'Brown'}, inplace=True)"
   ]
  },
  {
   "cell_type": "code",
   "execution_count": 452,
   "metadata": {},
   "outputs": [],
   "source": [
    "zara_data[zara_data['color']=='camel']['image_link']\n",
    "zara_data['color'].replace({'camel': 'Ecru'}, inplace=True)"
   ]
  },
  {
   "cell_type": "code",
   "execution_count": 453,
   "metadata": {},
   "outputs": [],
   "source": [
    "zara_data[zara_data['color']=='ORD']['type']\n",
    "zara_data['color'].replace({'ORD': 'White'}, inplace=True)"
   ]
  },
  {
   "cell_type": "code",
   "execution_count": 454,
   "metadata": {},
   "outputs": [],
   "source": [
    "zara_data[zara_data['color']=='LEG DARTED TROUSERS CO']['image_link']\n",
    "zara_data['color'].replace({'LEG DARTED TROUSERS CO': 'Black'}, inplace=True)"
   ]
  },
  {
   "cell_type": "code",
   "execution_count": 455,
   "metadata": {},
   "outputs": [],
   "source": [
    "zara_data[zara_data['color']=='LEG TROUSERS CO']['image_link']\n",
    "zara_data.at[160, 'color'] = 'Black'\n",
    "zara_data.at[162, 'color'] = 'Brown'"
   ]
  },
  {
   "cell_type": "code",
   "execution_count": 456,
   "metadata": {},
   "outputs": [],
   "source": [
    "zara_data[zara_data['color']=='Stone by Zara']['image_link']\n",
    "zara_data['color'].replace({'Stone by Zara': 'Ecru'}, inplace=True)"
   ]
  },
  {
   "cell_type": "code",
   "execution_count": 468,
   "metadata": {},
   "outputs": [],
   "source": [
    "zara_data[zara_data['color']=='Beige by Zara']['image_link']\n",
    "zara_data['color'].replace({'Beige by Zara': 'Beige'}, inplace=True)"
   ]
  },
  {
   "cell_type": "code",
   "execution_count": 457,
   "metadata": {},
   "outputs": [],
   "source": [
    "zara_data[zara_data['color']=='Indigo by Zara']['image_link']\n",
    "zara_data['color'].replace({'Indigo by Zara': 'Blue'}, inplace=True)"
   ]
  },
  {
   "cell_type": "code",
   "execution_count": 458,
   "metadata": {},
   "outputs": [],
   "source": [
    "zara_data[zara_data['color']=='Tan marl by Zara']['image_link']\n",
    "zara_data['color'].replace({'Tan marl by Zara': 'Brown'}, inplace=True)"
   ]
  },
  {
   "cell_type": "code",
   "execution_count": 459,
   "metadata": {},
   "outputs": [],
   "source": [
    "zara_data[zara_data['color']=='807 by Zara']['image_link']\n",
    "zara_data['color'].replace({'807 by Zara': 'Black'}, inplace=True)"
   ]
  },
  {
   "cell_type": "code",
   "execution_count": 460,
   "metadata": {},
   "outputs": [],
   "source": [
    "zara_data[zara_data['color']=='803 by Zara']['image_link']\n",
    "zara_data['color'].replace({'803 by Zara': 'Grey'}, inplace=True)"
   ]
  },
  {
   "cell_type": "code",
   "execution_count": 461,
   "metadata": {},
   "outputs": [],
   "source": [
    "zara_data[zara_data['color']=='922 by Zara']['image_link']\n",
    "zara_data['color'].replace({'922 by Zara': 'Black'}, inplace=True)"
   ]
  },
  {
   "cell_type": "code",
   "execution_count": 462,
   "metadata": {},
   "outputs": [],
   "source": [
    "zara_data[zara_data['color']=='Leopard by Zara']['image_link']\n",
    "zara_data['color'].replace({'Leopard by Zara': 'Brown'}, inplace=True)"
   ]
  },
  {
   "cell_type": "code",
   "execution_count": 464,
   "metadata": {},
   "outputs": [],
   "source": [
    "zara_data[zara_data['color']=='222 by Zara']['image_link']\n",
    "zara_data['color'].replace({'222 by Zara': 'Silver'}, inplace=True)"
   ]
  },
  {
   "cell_type": "code",
   "execution_count": 465,
   "metadata": {},
   "outputs": [],
   "source": [
    "zara_data['color'].replace({'Golden': 'Gold'}, inplace=True)"
   ]
  },
  {
   "cell_type": "code",
   "execution_count": 466,
   "metadata": {},
   "outputs": [],
   "source": [
    "zara_data.drop(columns='type_color', inplace=True)"
   ]
  },
  {
   "cell_type": "markdown",
   "metadata": {},
   "source": [
    "column['combi_type'] cleaning"
   ]
  },
  {
   "cell_type": "code",
   "execution_count": 470,
   "metadata": {},
   "outputs": [],
   "source": [
    "zara_data['combi_type']=zara_data['combi_type_color']\n",
    "zara_data['combi_color']=zara_data['combi_type_color']"
   ]
  },
  {
   "cell_type": "code",
   "execution_count": 471,
   "metadata": {},
   "outputs": [],
   "source": [
    "def find_combi_type(zara_data, types):\n",
    "    for type_ in types:\n",
    "        zara_data.loc[zara_data['combi_type'].str.contains(type_, case=False), 'combi_type'] = type_\n",
    "\n",
    "types = ['SKIRT', 'CARDIGAN', 'SWEATER', 'TOP', 'BODYSUIT', 'SHIRT',\n",
    "         'T-SHIRT', 'JEAN', 'TROUSER', 'SHOE', 'KNITWEAR', 'SWEATSHIRT',\n",
    "         'TRENCH', 'COAT', 'WAISTCOAT', 'SHORT', 'SKORT', 'BAG', 'BEACHWEAR',\n",
    "         'BLAZER', 'HOODIE','JACKET', 'BLOUSE', 'JOGGERS','LEGGINGS']\n",
    "\n",
    "find_combi_type(zara_data, types)"
   ]
  },
  {
   "cell_type": "code",
   "execution_count": 472,
   "metadata": {},
   "outputs": [],
   "source": [
    "zara_data[zara_data['combi_type']=='KNIT CULOTTES - Grey by Zara']['combi_image_link']\n",
    "zara_data['combi_type'].replace({'KNIT CULOTTES - Grey by Zara': 'LEGGINGS'}, inplace=True)"
   ]
  },
  {
   "cell_type": "code",
   "execution_count": 473,
   "metadata": {},
   "outputs": [],
   "source": [
    "zara_data.drop(zara_data[zara_data['combi_type'] == 'POLYAMIDE STRETCH BODYCON BRIEFS - Light grey by Zara'].index, inplace=True)\n",
    "zara_data.drop(zara_data[zara_data['combi_type'] == 'TEXTURED SHIMMERY BRIEFS - Light green by Zara'].index, inplace=True)"
   ]
  },
  {
   "cell_type": "code",
   "execution_count": 499,
   "metadata": {},
   "outputs": [
    {
     "data": {
      "text/plain": [
       "Trousers              89\n",
       "Skirts                58\n",
       "Joggers               13\n",
       "Shorts                 9\n",
       "Tops                   3\n",
       "Blouses and shirts     3\n",
       "Coats                  2\n",
       "Jeans                  1\n",
       "Hoodie                 1\n",
       "Name: combi_type, dtype: int64"
      ]
     },
     "execution_count": 499,
     "metadata": {},
     "output_type": "execute_result"
    }
   ],
   "source": [
    "zara_data['combi_type'].value_counts()"
   ]
  },
  {
   "cell_type": "code",
   "execution_count": 475,
   "metadata": {},
   "outputs": [],
   "source": [
    "zara_data['combi_type'] = zara_data['combi_type'].map({'TROUSER':'Trousers', 'SKIRT':'Skirts', 'JOGGERS': 'Joggers',\n",
    "                                                 'LEGGINGS': 'Trousers', 'SKORT':'Shorts', 'SHORT':'Shorts', \n",
    "                                                 'TOP':'Tops', 'SHIRT':'Blouses and shirts', 'COAT':'Coats',\n",
    "                                                 'JEAN':'Jeans', 'HOODIE':'Hoodie'})\n"
   ]
  },
  {
   "cell_type": "markdown",
   "metadata": {},
   "source": [
    "column['combi_color'] cleaning"
   ]
  },
  {
   "cell_type": "code",
   "execution_count": 477,
   "metadata": {},
   "outputs": [],
   "source": [
    "def combine_combi_colors(zara_data, colors_to_combine):\n",
    "    for color in colors_to_combine:\n",
    "        zara_data.loc[zara_data['combi_color'].str.contains(color, case=False), 'combi_color'] = color\n",
    "        \n",
    "colors_to_combine = ['Blue', 'Red', 'Green', 'Yellow', 'White', 'Grey', 'Brown', 'Orange', 'Pink', 'Black', 'Purple','Navy', 'Ecru', 'Silver',\n",
    "                     'Khaki', 'Golden', 'camel', 'Sand']\n",
    "combine_combi_colors(zara_data, colors_to_combine)"
   ]
  },
  {
   "cell_type": "code",
   "execution_count": 478,
   "metadata": {},
   "outputs": [],
   "source": [
    "def process_combi_color(color):\n",
    "    parts = color.split('-')\n",
    "    if len(parts) > 1 and parts[1].strip() not in colors_to_combine:\n",
    "        return parts[1].strip()\n",
    "    else:\n",
    "        return color\n",
    "\n",
    "zara_data['combi_color'] = zara_data['combi_color'].apply(process_combi_color)\n"
   ]
  },
  {
   "cell_type": "code",
   "execution_count": 498,
   "metadata": {},
   "outputs": [
    {
     "data": {
      "text/plain": [
       "Grey      34\n",
       "Black     33\n",
       "Ecru      24\n",
       "Red       23\n",
       "Blue      17\n",
       "White     12\n",
       "Brown      9\n",
       "Green      8\n",
       "Silver     5\n",
       "Khaki      4\n",
       "Pink       4\n",
       "Sand       3\n",
       "Gold       1\n",
       "Purple     1\n",
       "Beige      1\n",
       "Name: combi_color, dtype: int64"
      ]
     },
     "execution_count": 498,
     "metadata": {},
     "output_type": "execute_result"
    }
   ],
   "source": [
    "zara_data['combi_color'].value_counts()"
   ]
  },
  {
   "cell_type": "code",
   "execution_count": 480,
   "metadata": {},
   "outputs": [],
   "source": [
    "zara_data[zara_data['combi_color']=='Beige by Zara']['combi_image_link']\n",
    "zara_data['combi_color'].replace({'Beige by Zara': 'Beige'}, inplace=True)"
   ]
  },
  {
   "cell_type": "code",
   "execution_count": 481,
   "metadata": {},
   "outputs": [],
   "source": [
    "zara_data['combi_color'].replace({'Golden': 'Gold'}, inplace=True)"
   ]
  },
  {
   "cell_type": "code",
   "execution_count": 482,
   "metadata": {},
   "outputs": [],
   "source": [
    "zara_data[zara_data['combi_color']=='camel']['combi_image_link']\n",
    "zara_data['combi_color'].replace({'camel': 'Ecru'}, inplace=True)"
   ]
  },
  {
   "cell_type": "code",
   "execution_count": 483,
   "metadata": {},
   "outputs": [],
   "source": [
    "zara_data[zara_data['combi_color']=='Tan marl by Zara']['combi_image_link']\n",
    "zara_data['combi_color'].replace({'Tan marl by Zara': 'Brown'}, inplace=True)"
   ]
  },
  {
   "cell_type": "code",
   "execution_count": 484,
   "metadata": {},
   "outputs": [],
   "source": [
    "zara_data[zara_data['combi_color']=='LEG JOGGER TROUSERS']['combi_image_link']\n",
    "zara_data['combi_color'].replace({'LEG JOGGER TROUSERS': 'Ecru'}, inplace=True)"
   ]
  },
  {
   "cell_type": "code",
   "execution_count": 485,
   "metadata": {},
   "outputs": [],
   "source": [
    "zara_data[zara_data['combi_color']=='Mink by Zara']['combi_image_link']\n",
    "zara_data.at[127, 'combi_color'] = 'Ecru'\n",
    "zara_data.at[182, 'combi_color'] = 'Brown'"
   ]
  },
  {
   "cell_type": "code",
   "execution_count": 486,
   "metadata": {},
   "outputs": [],
   "source": [
    "zara_data[zara_data['combi_color']=='Leopard by Zara']['combi_image_link']\n",
    "zara_data['combi_color'].replace({'Leopard by Zara': 'Brown'}, inplace=True)"
   ]
  },
  {
   "cell_type": "code",
   "execution_count": 488,
   "metadata": {},
   "outputs": [],
   "source": [
    "zara_data[zara_data['combi_color']=='DYE SKIRT']['combi_image_link']\n",
    "zara_data['combi_color'].replace({'DYE SKIRT': 'Brown'}, inplace=True)"
   ]
  },
  {
   "cell_type": "code",
   "execution_count": 489,
   "metadata": {},
   "outputs": [],
   "source": [
    "zara_data[zara_data['combi_color']=='222 by Zara']['combi_image_link']\n",
    "zara_data['combi_color'].replace({'222 by Zara': 'Silver'}, inplace=True)"
   ]
  },
  {
   "cell_type": "code",
   "execution_count": 491,
   "metadata": {},
   "outputs": [],
   "source": [
    "zara_data[zara_data['combi_color']=='Stone by Zara']['combi_image_link']\n",
    "zara_data['combi_color'].replace({'Stone by Zara': 'Ecru'}, inplace=True)"
   ]
  },
  {
   "cell_type": "code",
   "execution_count": 492,
   "metadata": {},
   "outputs": [],
   "source": [
    "zara_data[zara_data['combi_color']=='Indigo by Zara']['combi_image_link']\n",
    "zara_data['combi_color'].replace({'Indigo by Zara': 'Blue'}, inplace=True)"
   ]
  },
  {
   "cell_type": "code",
   "execution_count": 493,
   "metadata": {},
   "outputs": [],
   "source": [
    "zara_data[zara_data['combi_color']=='LEG TROUSERS']['combi_image_link']\n",
    "zara_data['combi_color'].replace({'LEG TROUSERS': 'Brown'}, inplace=True)"
   ]
  },
  {
   "cell_type": "code",
   "execution_count": 494,
   "metadata": {},
   "outputs": [],
   "source": [
    "zara_data.drop(columns='combi_type_color', inplace=True)"
   ]
  },
  {
   "cell_type": "code",
   "execution_count": 496,
   "metadata": {},
   "outputs": [],
   "source": [
    "desired_columns_order = ['image_link', 'type', 'color', 'combi_image_link', 'combi_type', 'combi_color']\n",
    "\n",
    "zara_data = zara_data[desired_columns_order]\n"
   ]
  },
  {
   "cell_type": "code",
   "execution_count": 502,
   "metadata": {},
   "outputs": [],
   "source": [
    "zara_data.reset_index(drop=True, inplace=True)\n",
    "zara_data.to_csv('Zara data/cleaned_Zara_data.csv')"
   ]
  },
  {
   "cell_type": "code",
   "execution_count": 507,
   "metadata": {},
   "outputs": [
    {
     "data": {
      "text/html": [
       "<div>\n",
       "<style scoped>\n",
       "    .dataframe tbody tr th:only-of-type {\n",
       "        vertical-align: middle;\n",
       "    }\n",
       "\n",
       "    .dataframe tbody tr th {\n",
       "        vertical-align: top;\n",
       "    }\n",
       "\n",
       "    .dataframe thead th {\n",
       "        text-align: right;\n",
       "    }\n",
       "</style>\n",
       "<table border=\"1\" class=\"dataframe\">\n",
       "  <thead>\n",
       "    <tr style=\"text-align: right;\">\n",
       "      <th></th>\n",
       "      <th>image_link</th>\n",
       "      <th>type</th>\n",
       "      <th>color</th>\n",
       "      <th>combi_image_link</th>\n",
       "      <th>combi_type</th>\n",
       "      <th>combi_color</th>\n",
       "    </tr>\n",
       "  </thead>\n",
       "  <tbody>\n",
       "    <tr>\n",
       "      <th>0</th>\n",
       "      <td>https://static.zara.net/assets/public/a2ec/f631/60974c5ea7b9/7c64b92ad2b0/04786046515-e1/04786046515-e1.jpg?ts=1709907074921&amp;w=400</td>\n",
       "      <td>Shirts</td>\n",
       "      <td>Green</td>\n",
       "      <td>https://static.zara.net/assets/public/6e2f/19f4/78ae49238427/60a14ac7fa35/04786060515-e1/04786060515-e1.jpg?ts=1709907072415&amp;w=400</td>\n",
       "      <td>Trousers</td>\n",
       "      <td>Green</td>\n",
       "    </tr>\n",
       "    <tr>\n",
       "      <th>1</th>\n",
       "      <td>https://static.zara.net/assets/public/6fb2/5120/918e4cb3845c/5f0bdf866a67/02902066400-e1/02902066400-e1.jpg?ts=1709907073646&amp;w=400</td>\n",
       "      <td>Shirts</td>\n",
       "      <td>Blue</td>\n",
       "      <td>https://static.zara.net/assets/public/b7a5/cec3/0ea446bfb2ae/a57112fdb027/02701066400-e1/02701066400-e1.jpg?ts=1709907073049&amp;w=400</td>\n",
       "      <td>Trousers</td>\n",
       "      <td>Blue</td>\n",
       "    </tr>\n",
       "    <tr>\n",
       "      <th>2</th>\n",
       "      <td>https://static.zara.net/assets/public/dcdc/5a19/ca9945d68bf5/e4a441057fd7/02328125800-e1/02328125800-e1.jpg?ts=1709736490024&amp;w=600</td>\n",
       "      <td>Shirts</td>\n",
       "      <td>Black</td>\n",
       "      <td>https://static.zara.net/assets/public/0720/4bf1/01a443d6a012/48447187386f/02942125800-e1/02942125800-e1.jpg?ts=1709736484873&amp;w=600</td>\n",
       "      <td>Shorts</td>\n",
       "      <td>Black</td>\n",
       "    </tr>\n",
       "    <tr>\n",
       "      <th>3</th>\n",
       "      <td>https://static.zara.net/assets/public/51e4/7936/50504c12b185/eeba48ec818d/04437048400-e1/04437048400-e1.jpg?ts=1709736491463&amp;w=600</td>\n",
       "      <td>Shirts</td>\n",
       "      <td>Blue</td>\n",
       "      <td>https://static.zara.net/assets/public/47b3/8f3a/26924f498860/49ce9d4b9542/04437050400-e1/04437050400-e1.jpg?ts=1709736488715&amp;w=600</td>\n",
       "      <td>Trousers</td>\n",
       "      <td>Blue</td>\n",
       "    </tr>\n",
       "    <tr>\n",
       "      <th>4</th>\n",
       "      <td>https://static.zara.net/assets/public/c33d/90d4/c9094f628b1f/e7a2d7aa68b3/02183044051-e1/02183044051-e1.jpg?ts=1709736496249&amp;w=600</td>\n",
       "      <td>Shirts</td>\n",
       "      <td>Brown</td>\n",
       "      <td>https://static.zara.net/assets/public/9dfa/eeba/0d664b459b89/8c639521d238/02183045051-e1/02183045051-e1.jpg?ts=1709736494141&amp;w=600</td>\n",
       "      <td>Trousers</td>\n",
       "      <td>Brown</td>\n",
       "    </tr>\n",
       "  </tbody>\n",
       "</table>\n",
       "</div>"
      ],
      "text/plain": [
       "                                                                                                                           image_link  \\\n",
       "0  https://static.zara.net/assets/public/a2ec/f631/60974c5ea7b9/7c64b92ad2b0/04786046515-e1/04786046515-e1.jpg?ts=1709907074921&w=400   \n",
       "1  https://static.zara.net/assets/public/6fb2/5120/918e4cb3845c/5f0bdf866a67/02902066400-e1/02902066400-e1.jpg?ts=1709907073646&w=400   \n",
       "2  https://static.zara.net/assets/public/dcdc/5a19/ca9945d68bf5/e4a441057fd7/02328125800-e1/02328125800-e1.jpg?ts=1709736490024&w=600   \n",
       "3  https://static.zara.net/assets/public/51e4/7936/50504c12b185/eeba48ec818d/04437048400-e1/04437048400-e1.jpg?ts=1709736491463&w=600   \n",
       "4  https://static.zara.net/assets/public/c33d/90d4/c9094f628b1f/e7a2d7aa68b3/02183044051-e1/02183044051-e1.jpg?ts=1709736496249&w=600   \n",
       "\n",
       "     type  color  \\\n",
       "0  Shirts  Green   \n",
       "1  Shirts   Blue   \n",
       "2  Shirts  Black   \n",
       "3  Shirts   Blue   \n",
       "4  Shirts  Brown   \n",
       "\n",
       "                                                                                                                     combi_image_link  \\\n",
       "0  https://static.zara.net/assets/public/6e2f/19f4/78ae49238427/60a14ac7fa35/04786060515-e1/04786060515-e1.jpg?ts=1709907072415&w=400   \n",
       "1  https://static.zara.net/assets/public/b7a5/cec3/0ea446bfb2ae/a57112fdb027/02701066400-e1/02701066400-e1.jpg?ts=1709907073049&w=400   \n",
       "2  https://static.zara.net/assets/public/0720/4bf1/01a443d6a012/48447187386f/02942125800-e1/02942125800-e1.jpg?ts=1709736484873&w=600   \n",
       "3  https://static.zara.net/assets/public/47b3/8f3a/26924f498860/49ce9d4b9542/04437050400-e1/04437050400-e1.jpg?ts=1709736488715&w=600   \n",
       "4  https://static.zara.net/assets/public/9dfa/eeba/0d664b459b89/8c639521d238/02183045051-e1/02183045051-e1.jpg?ts=1709736494141&w=600   \n",
       "\n",
       "  combi_type combi_color  \n",
       "0   Trousers       Green  \n",
       "1   Trousers        Blue  \n",
       "2     Shorts       Black  \n",
       "3   Trousers        Blue  \n",
       "4   Trousers       Brown  "
      ]
     },
     "execution_count": 507,
     "metadata": {},
     "output_type": "execute_result"
    }
   ],
   "source": [
    "zara_data.head()"
   ]
  },
  {
   "cell_type": "markdown",
   "metadata": {},
   "source": [
    "## 3- Generating synthetic data"
   ]
  },
  {
   "cell_type": "code",
   "execution_count": 513,
   "metadata": {},
   "outputs": [],
   "source": [
    "zara_syn_data = pd.read_csv('Zara data/cleaned_zara_data.csv')\n",
    "\n",
    "def generate_synthetic_data(data, num_samples):\n",
    "    synthetic_data = []\n",
    "    data_len = len(data)\n",
    "    for _ in range(num_samples):\n",
    "        # Randomly select unique row indices for product1 and product2\n",
    "        row_index_1 = random.randint(0, data_len - 1)\n",
    "        row_index_2 = random.randint(0, data_len - 1)\n",
    "        while row_index_2 == row_index_1:\n",
    "            row_index_2 = random.randint(0, data_len - 1)\n",
    "        \n",
    "        # Get product details for product1\n",
    "        product_image_1 = data.iloc[row_index_1]['image_link']\n",
    "        product_type_1 = data.iloc[row_index_1]['type']\n",
    "        product_color_1 = data.iloc[row_index_1]['color']\n",
    "        \n",
    "        # Get product details for product2\n",
    "        product_image_2 = data.iloc[row_index_2]['combi_image_link']\n",
    "        product_type_2 = data.iloc[row_index_2]['combi_type']\n",
    "        product_color_2 = data.iloc[row_index_2]['combi_color']\n",
    "        \n",
    "        # Create synthetic combination\n",
    "        synthetic_data.append({\n",
    "            'image_link': product_image_1,\n",
    "            'type': product_type_1,\n",
    "            'color': product_color_1,\n",
    "            'combi_image_link': product_image_2,\n",
    "            'combi_type': product_type_2,\n",
    "            'combi_color': product_color_2\n",
    "        })\n",
    "    return pd.DataFrame(synthetic_data)\n",
    "\n",
    "# Generate 3000 synthetic data samples\n",
    "synthetic_data = generate_synthetic_data(zara_syn_data, 3000)\n",
    "\n",
    "# Save the synthetic data to a new CSV file\n",
    "synthetic_data.to_csv(\"Zara data/synthetic_Zara_data.csv\", index=False)\n"
   ]
  },
  {
   "cell_type": "code",
   "execution_count": 560,
   "metadata": {},
   "outputs": [],
   "source": [
    "synthetic_data['match'] = 0"
   ]
  },
  {
   "cell_type": "code",
   "execution_count": 561,
   "metadata": {},
   "outputs": [],
   "source": [
    "synthetic_data.to_csv(\"Zara data/synthetic_Zara_data.csv\", index=False)"
   ]
  },
  {
   "cell_type": "code",
   "execution_count": 562,
   "metadata": {},
   "outputs": [],
   "source": [
    "synthetic_data = pd.read_csv('Zara data/synthetic_Zara_data.csv')"
   ]
  },
  {
   "cell_type": "code",
   "execution_count": 563,
   "metadata": {},
   "outputs": [
    {
     "data": {
      "text/html": [
       "<div>\n",
       "<style scoped>\n",
       "    .dataframe tbody tr th:only-of-type {\n",
       "        vertical-align: middle;\n",
       "    }\n",
       "\n",
       "    .dataframe tbody tr th {\n",
       "        vertical-align: top;\n",
       "    }\n",
       "\n",
       "    .dataframe thead th {\n",
       "        text-align: right;\n",
       "    }\n",
       "</style>\n",
       "<table border=\"1\" class=\"dataframe\">\n",
       "  <thead>\n",
       "    <tr style=\"text-align: right;\">\n",
       "      <th></th>\n",
       "      <th>image_link</th>\n",
       "      <th>type</th>\n",
       "      <th>color</th>\n",
       "      <th>combi_image_link</th>\n",
       "      <th>combi_type</th>\n",
       "      <th>combi_color</th>\n",
       "      <th>match</th>\n",
       "    </tr>\n",
       "  </thead>\n",
       "  <tbody>\n",
       "    <tr>\n",
       "      <th>0</th>\n",
       "      <td>https://static.zara.net/assets/public/7aa1/1577/639142eea9dc/1b59f79e844a/03199305712-e1/03199305712-e1.jpg?ts=1708505012502&amp;w=400</td>\n",
       "      <td>Shirts</td>\n",
       "      <td>Ecru</td>\n",
       "      <td>https://static.zara.net/assets/public/3b5b/4f64/09824726b943/fda95d155c48/09464444401-e1/09464444401-e1.jpg?ts=1706716246324&amp;w=400</td>\n",
       "      <td>Trousers</td>\n",
       "      <td>Blue</td>\n",
       "      <td>0</td>\n",
       "    </tr>\n",
       "    <tr>\n",
       "      <th>1</th>\n",
       "      <td>https://static.zara.net/assets/public/6fb5/d90b/b14c488ebf20/93ecaf0da992/04083228407-e1/04083228407-e1.jpg?ts=1707930382083&amp;w=400</td>\n",
       "      <td>Shirts</td>\n",
       "      <td>Blue</td>\n",
       "      <td>https://static.zara.net/assets/public/68c2/4816/b54e4715a674/8062beda6ec2/01879025427-e1/01879025427-e1.jpg?ts=1707150703955&amp;w=400</td>\n",
       "      <td>Skirts</td>\n",
       "      <td>Blue</td>\n",
       "      <td>0</td>\n",
       "    </tr>\n",
       "    <tr>\n",
       "      <th>2</th>\n",
       "      <td>https://static.zara.net/assets/public/3a34/cd42/ed3440c1ab86/742ab121027d/02132425801-e1/02132425801-e1.jpg?ts=1704970847582&amp;w=400</td>\n",
       "      <td>Tops</td>\n",
       "      <td>Grey</td>\n",
       "      <td>https://static.zara.net/assets/public/81ff/15ed/c2754628ae70/6f6a048b7bcb/02615747800-e1/02615747800-e1.jpg?ts=1707997867807&amp;w=400</td>\n",
       "      <td>Skirts</td>\n",
       "      <td>Black</td>\n",
       "      <td>0</td>\n",
       "    </tr>\n",
       "    <tr>\n",
       "      <th>3</th>\n",
       "      <td>https://static.zara.net/assets/public/0dfa/b72c/7325428a954f/c67014a53285/02893164922-e1/02893164922-e1.jpg?ts=1705652687939&amp;w=400</td>\n",
       "      <td>Cardigans</td>\n",
       "      <td>Grey</td>\n",
       "      <td>https://static.zara.net/assets/public/772f/e5ab/012c48839dd7/b193a9551f47/03199052800-e1/03199052800-e1.jpg?ts=1706184194971&amp;w=400</td>\n",
       "      <td>Trousers</td>\n",
       "      <td>Black</td>\n",
       "      <td>0</td>\n",
       "    </tr>\n",
       "    <tr>\n",
       "      <th>4</th>\n",
       "      <td>https://static.zara.net/assets/public/53ab/0bb3/a81142039f0c/b5ef3ce8c7a7/02520624251-e1/02520624251-e1.jpg?ts=1707299731557&amp;w=400</td>\n",
       "      <td>Tops</td>\n",
       "      <td>White</td>\n",
       "      <td>https://static.zara.net/assets/public/25ed/b8d6/1809438e9cf6/2c0ee9f6c60b/08417804712-e1/4000.jpg?ts=1697793472602&amp;w=400</td>\n",
       "      <td>Trousers</td>\n",
       "      <td>Ecru</td>\n",
       "      <td>0</td>\n",
       "    </tr>\n",
       "  </tbody>\n",
       "</table>\n",
       "</div>"
      ],
      "text/plain": [
       "                                                                                                                           image_link  \\\n",
       "0  https://static.zara.net/assets/public/7aa1/1577/639142eea9dc/1b59f79e844a/03199305712-e1/03199305712-e1.jpg?ts=1708505012502&w=400   \n",
       "1  https://static.zara.net/assets/public/6fb5/d90b/b14c488ebf20/93ecaf0da992/04083228407-e1/04083228407-e1.jpg?ts=1707930382083&w=400   \n",
       "2  https://static.zara.net/assets/public/3a34/cd42/ed3440c1ab86/742ab121027d/02132425801-e1/02132425801-e1.jpg?ts=1704970847582&w=400   \n",
       "3  https://static.zara.net/assets/public/0dfa/b72c/7325428a954f/c67014a53285/02893164922-e1/02893164922-e1.jpg?ts=1705652687939&w=400   \n",
       "4  https://static.zara.net/assets/public/53ab/0bb3/a81142039f0c/b5ef3ce8c7a7/02520624251-e1/02520624251-e1.jpg?ts=1707299731557&w=400   \n",
       "\n",
       "        type  color  \\\n",
       "0     Shirts   Ecru   \n",
       "1     Shirts   Blue   \n",
       "2       Tops   Grey   \n",
       "3  Cardigans   Grey   \n",
       "4       Tops  White   \n",
       "\n",
       "                                                                                                                     combi_image_link  \\\n",
       "0  https://static.zara.net/assets/public/3b5b/4f64/09824726b943/fda95d155c48/09464444401-e1/09464444401-e1.jpg?ts=1706716246324&w=400   \n",
       "1  https://static.zara.net/assets/public/68c2/4816/b54e4715a674/8062beda6ec2/01879025427-e1/01879025427-e1.jpg?ts=1707150703955&w=400   \n",
       "2  https://static.zara.net/assets/public/81ff/15ed/c2754628ae70/6f6a048b7bcb/02615747800-e1/02615747800-e1.jpg?ts=1707997867807&w=400   \n",
       "3  https://static.zara.net/assets/public/772f/e5ab/012c48839dd7/b193a9551f47/03199052800-e1/03199052800-e1.jpg?ts=1706184194971&w=400   \n",
       "4            https://static.zara.net/assets/public/25ed/b8d6/1809438e9cf6/2c0ee9f6c60b/08417804712-e1/4000.jpg?ts=1697793472602&w=400   \n",
       "\n",
       "  combi_type combi_color  match  \n",
       "0   Trousers        Blue      0  \n",
       "1     Skirts        Blue      0  \n",
       "2     Skirts       Black      0  \n",
       "3   Trousers       Black      0  \n",
       "4   Trousers        Ecru      0  "
      ]
     },
     "execution_count": 563,
     "metadata": {},
     "output_type": "execute_result"
    }
   ],
   "source": [
    "synthetic_data.head()"
   ]
  },
  {
   "cell_type": "markdown",
   "metadata": {},
   "source": [
    "## 4- Image download"
   ]
  },
  {
   "cell_type": "code",
   "execution_count": 538,
   "metadata": {},
   "outputs": [],
   "source": [
    "def modified_url(url):\n",
    "    # Split the URL by '?' to separate the base URL and the parameters\n",
    "    base_url, params = url.split('?')\n",
    "\n",
    "    # Split the parameters by '&' to separate them\n",
    "    params_list = params.split('&')\n",
    "\n",
    "    # Create a dictionary to store the parameters\n",
    "    params_dict = {}\n",
    "    for param in params_list:\n",
    "        key, value = param.split('=')\n",
    "        params_dict[key] = value\n",
    "\n",
    "    # Modify the parameters\n",
    "    params_dict['w'] = '1280'\n",
    "\n",
    "    # Reconstruct the modified URL\n",
    "    return base_url + '?' + '&'.join([f\"{key}={value}\" for key, value in params_dict.items()])"
   ]
  },
  {
   "cell_type": "code",
   "execution_count": 549,
   "metadata": {},
   "outputs": [],
   "source": [
    "def download_image(url, folder, name):\n",
    "    url = modified_url(url)\n",
    "\n",
    "    headers = {\n",
    "    'User-Agent': 'Mozilla/5.0 (Windows NT 10.0; Win64; x64) AppleWebKit/537.36 (KHTML, like Gecko) Chrome/58.0.3029.110 Safari/537.3',\n",
    "    'Referer': 'https://www.google.com/'\n",
    "    }\n",
    "\n",
    "    # Send a GET request to the image URL\n",
    "    response = requests.get(url, headers=headers)\n",
    "\n",
    "    time.sleep(1.0)\n",
    "    \n",
    "    # Check if the request was successful (status code 200)\n",
    "    if response.status_code == 200:\n",
    "        img = Image.open(BytesIO(response.content))\n",
    "    \n",
    "        new_size = (768,1074)\n",
    "\n",
    "        new_img = Image.new(\"RGB\", new_size)\n",
    "        # Paste the original image onto the new image with the desired size\n",
    "        new_img.paste(img.resize(new_size), (0, 0))\n",
    "        \n",
    "        img = new_img\n",
    "    \n",
    "        img.info['dpi'] = (150, 150)\n",
    "\n",
    "        # Save the image to the specified folder with the given name\n",
    "        img.save(folder + '/' + name + \".jpg\")\n",
    "    else:\n",
    "        print(\"Failed to download image url:\", url, name)"
   ]
  },
  {
   "cell_type": "code",
   "execution_count": 548,
   "metadata": {},
   "outputs": [
    {
     "name": "stdout",
     "output_type": "stream",
     "text": [
      "Progress: 2999 / 3000\r"
     ]
    }
   ],
   "source": [
    "for index, row in synthetic_data.iloc[2250:].iterrows():\n",
    "        image_url = row['image_link']\n",
    "        image_name = f\"A{index}\"  # Creating a unique name for each image\n",
    "        print(f'Progress: {index} / {synthetic_data.shape[0]}', end='\\r')\n",
    "        download_image(image_url, 'A-Zara-images', image_name)"
   ]
  },
  {
   "cell_type": "code",
   "execution_count": 550,
   "metadata": {},
   "outputs": [
    {
     "name": "stdout",
     "output_type": "stream",
     "text": [
      "Progress: 2999 / 3000\r"
     ]
    }
   ],
   "source": [
    "for index, row in synthetic_data.iterrows():\n",
    "        image_url = row['combi_image_link']\n",
    "        image_name = f\"B{index}\"  # Creating a unique name for each image\n",
    "        print(f'Progress: {index} / {synthetic_data.shape[0]}', end='\\r')\n",
    "        download_image(image_url, 'B-Zara-images', image_name)"
   ]
  },
  {
   "cell_type": "markdown",
   "metadata": {},
   "source": [
    "## 5- Concat Mango and Zara"
   ]
  },
  {
   "cell_type": "code",
   "execution_count": 579,
   "metadata": {},
   "outputs": [],
   "source": [
    "mango = pd.read_csv('Mango data/cleaned_Mango_data.csv',index_col=0)\n",
    "zara = pd.read_csv('Zara data/synthetic_Zara_data.csv')\n"
   ]
  },
  {
   "cell_type": "code",
   "execution_count": 585,
   "metadata": {},
   "outputs": [
    {
     "data": {
      "text/html": [
       "<div>\n",
       "<style scoped>\n",
       "    .dataframe tbody tr th:only-of-type {\n",
       "        vertical-align: middle;\n",
       "    }\n",
       "\n",
       "    .dataframe tbody tr th {\n",
       "        vertical-align: top;\n",
       "    }\n",
       "\n",
       "    .dataframe thead th {\n",
       "        text-align: right;\n",
       "    }\n",
       "</style>\n",
       "<table border=\"1\" class=\"dataframe\">\n",
       "  <thead>\n",
       "    <tr style=\"text-align: right;\">\n",
       "      <th></th>\n",
       "      <th>image_link</th>\n",
       "      <th>type</th>\n",
       "      <th>color</th>\n",
       "      <th>combi_image_link</th>\n",
       "      <th>combi_type</th>\n",
       "      <th>combi_color</th>\n",
       "      <th>match</th>\n",
       "    </tr>\n",
       "  </thead>\n",
       "  <tbody>\n",
       "    <tr>\n",
       "      <th>0</th>\n",
       "      <td>A-Mango-images/A0</td>\n",
       "      <td>Shirts</td>\n",
       "      <td>Ecru</td>\n",
       "      <td>B-Mango-images/B0</td>\n",
       "      <td>Skirts</td>\n",
       "      <td>Ecru</td>\n",
       "      <td>1</td>\n",
       "    </tr>\n",
       "    <tr>\n",
       "      <th>1</th>\n",
       "      <td>A-Mango-images/A1</td>\n",
       "      <td>Shirts</td>\n",
       "      <td>Ecru</td>\n",
       "      <td>B-Mango-images/B1</td>\n",
       "      <td>Bags</td>\n",
       "      <td>Brown</td>\n",
       "      <td>1</td>\n",
       "    </tr>\n",
       "    <tr>\n",
       "      <th>2</th>\n",
       "      <td>A-Mango-images/A2</td>\n",
       "      <td>Shirts</td>\n",
       "      <td>Ecru</td>\n",
       "      <td>B-Mango-images/B2</td>\n",
       "      <td>Jewellery</td>\n",
       "      <td>Gold</td>\n",
       "      <td>1</td>\n",
       "    </tr>\n",
       "    <tr>\n",
       "      <th>3</th>\n",
       "      <td>A-Mango-images/A3</td>\n",
       "      <td>Shirts</td>\n",
       "      <td>Pink</td>\n",
       "      <td>B-Mango-images/B3</td>\n",
       "      <td>Trousers</td>\n",
       "      <td>Pink</td>\n",
       "      <td>1</td>\n",
       "    </tr>\n",
       "    <tr>\n",
       "      <th>4</th>\n",
       "      <td>A-Mango-images/A4</td>\n",
       "      <td>Shirts</td>\n",
       "      <td>Pink</td>\n",
       "      <td>B-Mango-images/B4</td>\n",
       "      <td>Shoes</td>\n",
       "      <td>Silver</td>\n",
       "      <td>1</td>\n",
       "    </tr>\n",
       "  </tbody>\n",
       "</table>\n",
       "</div>"
      ],
      "text/plain": [
       "          image_link    type color   combi_image_link combi_type combi_color  \\\n",
       "0  A-Mango-images/A0  Shirts  Ecru  B-Mango-images/B0     Skirts        Ecru   \n",
       "1  A-Mango-images/A1  Shirts  Ecru  B-Mango-images/B1       Bags       Brown   \n",
       "2  A-Mango-images/A2  Shirts  Ecru  B-Mango-images/B2  Jewellery        Gold   \n",
       "3  A-Mango-images/A3  Shirts  Pink  B-Mango-images/B3   Trousers        Pink   \n",
       "4  A-Mango-images/A4  Shirts  Pink  B-Mango-images/B4      Shoes      Silver   \n",
       "\n",
       "   match  \n",
       "0      1  \n",
       "1      1  \n",
       "2      1  \n",
       "3      1  \n",
       "4      1  "
      ]
     },
     "execution_count": 585,
     "metadata": {},
     "output_type": "execute_result"
    }
   ],
   "source": [
    "mango.head()"
   ]
  },
  {
   "cell_type": "code",
   "execution_count": 584,
   "metadata": {},
   "outputs": [],
   "source": [
    "mango['image_link']='A-Mango-images/A'+mango.index.astype(str)\n",
    "mango['combi_image_link']='B-Mango-images/B'+mango.index.astype(str)"
   ]
  },
  {
   "cell_type": "code",
   "execution_count": 588,
   "metadata": {},
   "outputs": [
    {
     "data": {
      "text/html": [
       "<div>\n",
       "<style scoped>\n",
       "    .dataframe tbody tr th:only-of-type {\n",
       "        vertical-align: middle;\n",
       "    }\n",
       "\n",
       "    .dataframe tbody tr th {\n",
       "        vertical-align: top;\n",
       "    }\n",
       "\n",
       "    .dataframe thead th {\n",
       "        text-align: right;\n",
       "    }\n",
       "</style>\n",
       "<table border=\"1\" class=\"dataframe\">\n",
       "  <thead>\n",
       "    <tr style=\"text-align: right;\">\n",
       "      <th></th>\n",
       "      <th>image_link</th>\n",
       "      <th>type</th>\n",
       "      <th>color</th>\n",
       "      <th>combi_image_link</th>\n",
       "      <th>combi_type</th>\n",
       "      <th>combi_color</th>\n",
       "      <th>match</th>\n",
       "    </tr>\n",
       "  </thead>\n",
       "  <tbody>\n",
       "    <tr>\n",
       "      <th>0</th>\n",
       "      <td>A-Zara-images/A0</td>\n",
       "      <td>Shirts</td>\n",
       "      <td>Ecru</td>\n",
       "      <td>B-Zara-images/B0</td>\n",
       "      <td>Trousers</td>\n",
       "      <td>Blue</td>\n",
       "      <td>0</td>\n",
       "    </tr>\n",
       "    <tr>\n",
       "      <th>1</th>\n",
       "      <td>A-Zara-images/A1</td>\n",
       "      <td>Shirts</td>\n",
       "      <td>Blue</td>\n",
       "      <td>B-Zara-images/B1</td>\n",
       "      <td>Skirts</td>\n",
       "      <td>Blue</td>\n",
       "      <td>0</td>\n",
       "    </tr>\n",
       "    <tr>\n",
       "      <th>2</th>\n",
       "      <td>A-Zara-images/A2</td>\n",
       "      <td>Tops</td>\n",
       "      <td>Grey</td>\n",
       "      <td>B-Zara-images/B2</td>\n",
       "      <td>Skirts</td>\n",
       "      <td>Black</td>\n",
       "      <td>0</td>\n",
       "    </tr>\n",
       "    <tr>\n",
       "      <th>3</th>\n",
       "      <td>A-Zara-images/A3</td>\n",
       "      <td>Cardigans</td>\n",
       "      <td>Grey</td>\n",
       "      <td>B-Zara-images/B3</td>\n",
       "      <td>Trousers</td>\n",
       "      <td>Black</td>\n",
       "      <td>0</td>\n",
       "    </tr>\n",
       "    <tr>\n",
       "      <th>4</th>\n",
       "      <td>A-Zara-images/A4</td>\n",
       "      <td>Tops</td>\n",
       "      <td>White</td>\n",
       "      <td>B-Zara-images/B4</td>\n",
       "      <td>Trousers</td>\n",
       "      <td>Ecru</td>\n",
       "      <td>0</td>\n",
       "    </tr>\n",
       "  </tbody>\n",
       "</table>\n",
       "</div>"
      ],
      "text/plain": [
       "         image_link       type  color  combi_image_link combi_type  \\\n",
       "0  A-Zara-images/A0     Shirts   Ecru  B-Zara-images/B0   Trousers   \n",
       "1  A-Zara-images/A1     Shirts   Blue  B-Zara-images/B1     Skirts   \n",
       "2  A-Zara-images/A2       Tops   Grey  B-Zara-images/B2     Skirts   \n",
       "3  A-Zara-images/A3  Cardigans   Grey  B-Zara-images/B3   Trousers   \n",
       "4  A-Zara-images/A4       Tops  White  B-Zara-images/B4   Trousers   \n",
       "\n",
       "  combi_color  match  \n",
       "0        Blue      0  \n",
       "1        Blue      0  \n",
       "2       Black      0  \n",
       "3       Black      0  \n",
       "4        Ecru      0  "
      ]
     },
     "execution_count": 588,
     "metadata": {},
     "output_type": "execute_result"
    }
   ],
   "source": [
    "zara.head()"
   ]
  },
  {
   "cell_type": "code",
   "execution_count": 587,
   "metadata": {},
   "outputs": [],
   "source": [
    "zara['image_link']='A-Zara-images/A'+zara.index.astype(str)\n",
    "zara['combi_image_link']='B-Zara-images/B'+zara.index.astype(str)"
   ]
  },
  {
   "cell_type": "code",
   "execution_count": 589,
   "metadata": {},
   "outputs": [],
   "source": [
    "data = pd.concat([mango,zara], axis=0)\n",
    "data.reset_index(drop=True, inplace=True)"
   ]
  },
  {
   "cell_type": "code",
   "execution_count": 590,
   "metadata": {},
   "outputs": [
    {
     "data": {
      "text/html": [
       "<div>\n",
       "<style scoped>\n",
       "    .dataframe tbody tr th:only-of-type {\n",
       "        vertical-align: middle;\n",
       "    }\n",
       "\n",
       "    .dataframe tbody tr th {\n",
       "        vertical-align: top;\n",
       "    }\n",
       "\n",
       "    .dataframe thead th {\n",
       "        text-align: right;\n",
       "    }\n",
       "</style>\n",
       "<table border=\"1\" class=\"dataframe\">\n",
       "  <thead>\n",
       "    <tr style=\"text-align: right;\">\n",
       "      <th></th>\n",
       "      <th>image_link</th>\n",
       "      <th>type</th>\n",
       "      <th>color</th>\n",
       "      <th>combi_image_link</th>\n",
       "      <th>combi_type</th>\n",
       "      <th>combi_color</th>\n",
       "      <th>match</th>\n",
       "    </tr>\n",
       "  </thead>\n",
       "  <tbody>\n",
       "    <tr>\n",
       "      <th>0</th>\n",
       "      <td>A-Mango-images/A0</td>\n",
       "      <td>Shirts</td>\n",
       "      <td>Ecru</td>\n",
       "      <td>B-Mango-images/B0</td>\n",
       "      <td>Skirts</td>\n",
       "      <td>Ecru</td>\n",
       "      <td>1</td>\n",
       "    </tr>\n",
       "    <tr>\n",
       "      <th>1</th>\n",
       "      <td>A-Mango-images/A1</td>\n",
       "      <td>Shirts</td>\n",
       "      <td>Ecru</td>\n",
       "      <td>B-Mango-images/B1</td>\n",
       "      <td>Bags</td>\n",
       "      <td>Brown</td>\n",
       "      <td>1</td>\n",
       "    </tr>\n",
       "    <tr>\n",
       "      <th>2</th>\n",
       "      <td>A-Mango-images/A2</td>\n",
       "      <td>Shirts</td>\n",
       "      <td>Ecru</td>\n",
       "      <td>B-Mango-images/B2</td>\n",
       "      <td>Jewellery</td>\n",
       "      <td>Gold</td>\n",
       "      <td>1</td>\n",
       "    </tr>\n",
       "    <tr>\n",
       "      <th>3</th>\n",
       "      <td>A-Mango-images/A3</td>\n",
       "      <td>Shirts</td>\n",
       "      <td>Pink</td>\n",
       "      <td>B-Mango-images/B3</td>\n",
       "      <td>Trousers</td>\n",
       "      <td>Pink</td>\n",
       "      <td>1</td>\n",
       "    </tr>\n",
       "    <tr>\n",
       "      <th>4</th>\n",
       "      <td>A-Mango-images/A4</td>\n",
       "      <td>Shirts</td>\n",
       "      <td>Pink</td>\n",
       "      <td>B-Mango-images/B4</td>\n",
       "      <td>Shoes</td>\n",
       "      <td>Silver</td>\n",
       "      <td>1</td>\n",
       "    </tr>\n",
       "  </tbody>\n",
       "</table>\n",
       "</div>"
      ],
      "text/plain": [
       "          image_link    type color   combi_image_link combi_type combi_color  \\\n",
       "0  A-Mango-images/A0  Shirts  Ecru  B-Mango-images/B0     Skirts        Ecru   \n",
       "1  A-Mango-images/A1  Shirts  Ecru  B-Mango-images/B1       Bags       Brown   \n",
       "2  A-Mango-images/A2  Shirts  Ecru  B-Mango-images/B2  Jewellery        Gold   \n",
       "3  A-Mango-images/A3  Shirts  Pink  B-Mango-images/B3   Trousers        Pink   \n",
       "4  A-Mango-images/A4  Shirts  Pink  B-Mango-images/B4      Shoes      Silver   \n",
       "\n",
       "   match  \n",
       "0      1  \n",
       "1      1  \n",
       "2      1  \n",
       "3      1  \n",
       "4      1  "
      ]
     },
     "execution_count": 590,
     "metadata": {},
     "output_type": "execute_result"
    }
   ],
   "source": [
    "data.head()"
   ]
  },
  {
   "cell_type": "code",
   "execution_count": 591,
   "metadata": {},
   "outputs": [
    {
     "data": {
      "text/plain": [
       "(6793, 7)"
      ]
     },
     "execution_count": 591,
     "metadata": {},
     "output_type": "execute_result"
    }
   ],
   "source": [
    "data.shape"
   ]
  },
  {
   "cell_type": "code",
   "execution_count": 596,
   "metadata": {},
   "outputs": [],
   "source": [
    "data.to_csv('all_data.csv')"
   ]
  }
 ],
 "metadata": {
  "kernelspec": {
   "display_name": "base",
   "language": "python",
   "name": "python3"
  },
  "language_info": {
   "codemirror_mode": {
    "name": "ipython",
    "version": 3
   },
   "file_extension": ".py",
   "mimetype": "text/x-python",
   "name": "python",
   "nbconvert_exporter": "python",
   "pygments_lexer": "ipython3",
   "version": "3.11.4"
  },
  "orig_nbformat": 4
 },
 "nbformat": 4,
 "nbformat_minor": 2
}
